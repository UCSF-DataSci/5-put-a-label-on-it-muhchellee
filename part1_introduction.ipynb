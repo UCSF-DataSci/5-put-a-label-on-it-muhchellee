{
 "cells": [
  {
   "cell_type": "markdown",
   "id": "0a37826d",
   "metadata": {},
   "source": [
    "# Part 1: Introduction to Classification & Evaluation\n",
    "Load the synthetic health data, train a Logistic Regression model, and evaluate its performance."
   ]
  },
  {
   "cell_type": "code",
   "execution_count": 1,
   "id": "93501a1b",
   "metadata": {
    "execution": {
     "iopub.execute_input": "2025-06-08T03:59:09.573351Z",
     "iopub.status.busy": "2025-06-08T03:59:09.573055Z",
     "iopub.status.idle": "2025-06-08T03:59:21.441639Z",
     "shell.execute_reply": "2025-06-08T03:59:21.441209Z"
    }
   },
   "outputs": [
    {
     "name": "stdout",
     "output_type": "stream",
     "text": [
      "Collecting pandas<3.0,>=1.5 (from -r requirements.txt (line 2))\r\n",
      "  Using cached pandas-2.3.0-cp313-cp313-macosx_11_0_arm64.whl.metadata (91 kB)\r\n"
     ]
    },
    {
     "name": "stdout",
     "output_type": "stream",
     "text": [
      "Collecting numpy<3.0,>=1.20 (from -r requirements.txt (line 3))\r\n"
     ]
    },
    {
     "name": "stdout",
     "output_type": "stream",
     "text": [
      "  Downloading numpy-2.3.0-cp313-cp313-macosx_14_0_arm64.whl.metadata (62 kB)\r\n"
     ]
    },
    {
     "name": "stdout",
     "output_type": "stream",
     "text": [
      "Collecting scikit-learn<2.0,>=1.0 (from -r requirements.txt (line 4))\r\n",
      "  Using cached scikit_learn-1.7.0-cp313-cp313-macosx_12_0_arm64.whl.metadata (31 kB)\r\n"
     ]
    },
    {
     "name": "stdout",
     "output_type": "stream",
     "text": [
      "Collecting xgboost<3.0,>=1.5 (from -r requirements.txt (line 5))\r\n",
      "  Using cached xgboost-2.1.4-py3-none-macosx_12_0_arm64.whl.metadata (2.1 kB)\r\n",
      "Collecting imbalanced-learn<1.0,>=0.9 (from -r requirements.txt (line 6))\r\n"
     ]
    },
    {
     "name": "stdout",
     "output_type": "stream",
     "text": [
      "  Downloading imbalanced_learn-0.13.0-py3-none-any.whl.metadata (8.8 kB)\r\n"
     ]
    },
    {
     "name": "stdout",
     "output_type": "stream",
     "text": [
      "Collecting matplotlib<4.0,>=3.5 (from -r requirements.txt (line 7))\r\n",
      "  Using cached matplotlib-3.10.3-cp313-cp313-macosx_11_0_arm64.whl.metadata (11 kB)\r\n",
      "Collecting seaborn<1.0,>=0.11 (from -r requirements.txt (line 8))\r\n",
      "  Using cached seaborn-0.13.2-py3-none-any.whl.metadata (5.4 kB)\r\n",
      "Requirement already satisfied: ipykernel in /opt/homebrew/Cellar/jupyterlab/4.3.6/libexec/lib/python3.13/site-packages (from -r requirements.txt (line 9)) (6.29.5)\r\n",
      "Requirement already satisfied: python-dateutil>=2.8.2 in /opt/homebrew/Cellar/jupyterlab/4.3.6/libexec/lib/python3.13/site-packages (from pandas<3.0,>=1.5->-r requirements.txt (line 2)) (2.9.0.post0)\r\n"
     ]
    },
    {
     "name": "stdout",
     "output_type": "stream",
     "text": [
      "Collecting pytz>=2020.1 (from pandas<3.0,>=1.5->-r requirements.txt (line 2))\r\n",
      "  Using cached pytz-2025.2-py2.py3-none-any.whl.metadata (22 kB)\r\n",
      "Collecting tzdata>=2022.7 (from pandas<3.0,>=1.5->-r requirements.txt (line 2))\r\n",
      "  Using cached tzdata-2025.2-py2.py3-none-any.whl.metadata (1.4 kB)\r\n"
     ]
    },
    {
     "name": "stdout",
     "output_type": "stream",
     "text": [
      "Collecting scipy>=1.8.0 (from scikit-learn<2.0,>=1.0->-r requirements.txt (line 4))\r\n",
      "  Downloading scipy-1.15.3-cp313-cp313-macosx_14_0_arm64.whl.metadata (61 kB)\r\n"
     ]
    },
    {
     "name": "stdout",
     "output_type": "stream",
     "text": [
      "Collecting joblib>=1.2.0 (from scikit-learn<2.0,>=1.0->-r requirements.txt (line 4))\r\n",
      "  Using cached joblib-1.5.1-py3-none-any.whl.metadata (5.6 kB)\r\n",
      "Collecting threadpoolctl>=3.1.0 (from scikit-learn<2.0,>=1.0->-r requirements.txt (line 4))\r\n",
      "  Using cached threadpoolctl-3.6.0-py3-none-any.whl.metadata (13 kB)\r\n"
     ]
    },
    {
     "name": "stdout",
     "output_type": "stream",
     "text": [
      "Collecting sklearn-compat<1,>=0.1 (from imbalanced-learn<1.0,>=0.9->-r requirements.txt (line 6))\r\n",
      "  Downloading sklearn_compat-0.1.3-py3-none-any.whl.metadata (18 kB)\r\n"
     ]
    },
    {
     "name": "stdout",
     "output_type": "stream",
     "text": [
      "Collecting contourpy>=1.0.1 (from matplotlib<4.0,>=3.5->-r requirements.txt (line 7))\r\n",
      "  Using cached contourpy-1.3.2-cp313-cp313-macosx_11_0_arm64.whl.metadata (5.5 kB)\r\n",
      "Collecting cycler>=0.10 (from matplotlib<4.0,>=3.5->-r requirements.txt (line 7))\r\n"
     ]
    },
    {
     "name": "stdout",
     "output_type": "stream",
     "text": [
      "  Using cached cycler-0.12.1-py3-none-any.whl.metadata (3.8 kB)\r\n",
      "Collecting fonttools>=4.22.0 (from matplotlib<4.0,>=3.5->-r requirements.txt (line 7))\r\n"
     ]
    },
    {
     "name": "stdout",
     "output_type": "stream",
     "text": [
      "  Downloading fonttools-4.58.2-cp313-cp313-macosx_10_13_universal2.whl.metadata (106 kB)\r\n",
      "Collecting kiwisolver>=1.3.1 (from matplotlib<4.0,>=3.5->-r requirements.txt (line 7))\r\n"
     ]
    },
    {
     "name": "stdout",
     "output_type": "stream",
     "text": [
      "  Using cached kiwisolver-1.4.8-cp313-cp313-macosx_11_0_arm64.whl.metadata (6.2 kB)\r\n",
      "Requirement already satisfied: packaging>=20.0 in /opt/homebrew/Cellar/jupyterlab/4.3.6/libexec/lib/python3.13/site-packages (from matplotlib<4.0,>=3.5->-r requirements.txt (line 7)) (24.2)\r\n"
     ]
    },
    {
     "name": "stdout",
     "output_type": "stream",
     "text": [
      "Collecting pillow>=8 (from matplotlib<4.0,>=3.5->-r requirements.txt (line 7))\r\n",
      "  Using cached pillow-11.2.1-cp313-cp313-macosx_11_0_arm64.whl.metadata (8.9 kB)\r\n",
      "Collecting pyparsing>=2.3.1 (from matplotlib<4.0,>=3.5->-r requirements.txt (line 7))\r\n",
      "  Using cached pyparsing-3.2.3-py3-none-any.whl.metadata (5.0 kB)\r\n"
     ]
    },
    {
     "name": "stdout",
     "output_type": "stream",
     "text": [
      "Requirement already satisfied: appnope in /opt/homebrew/Cellar/jupyterlab/4.3.6/libexec/lib/python3.13/site-packages (from ipykernel->-r requirements.txt (line 9)) (0.1.4)\r\n",
      "Requirement already satisfied: comm>=0.1.1 in /opt/homebrew/Cellar/jupyterlab/4.3.6/libexec/lib/python3.13/site-packages (from ipykernel->-r requirements.txt (line 9)) (0.2.2)\r\n",
      "Requirement already satisfied: debugpy>=1.6.5 in /opt/homebrew/Cellar/jupyterlab/4.3.6/libexec/lib/python3.13/site-packages (from ipykernel->-r requirements.txt (line 9)) (1.8.13)\r\n",
      "Requirement already satisfied: ipython>=7.23.1 in /opt/homebrew/Cellar/jupyterlab/4.3.6/libexec/lib/python3.13/site-packages (from ipykernel->-r requirements.txt (line 9)) (9.0.2)\r\n",
      "Requirement already satisfied: jupyter-client>=6.1.12 in /opt/homebrew/Cellar/jupyterlab/4.3.6/libexec/lib/python3.13/site-packages (from ipykernel->-r requirements.txt (line 9)) (8.6.3)\r\n",
      "Requirement already satisfied: jupyter-core!=5.0.*,>=4.12 in /opt/homebrew/Cellar/jupyterlab/4.3.6/libexec/lib/python3.13/site-packages (from ipykernel->-r requirements.txt (line 9)) (5.7.2)\r\n",
      "Requirement already satisfied: matplotlib-inline>=0.1 in /opt/homebrew/Cellar/jupyterlab/4.3.6/libexec/lib/python3.13/site-packages (from ipykernel->-r requirements.txt (line 9)) (0.1.7)\r\n",
      "Requirement already satisfied: nest-asyncio in /opt/homebrew/Cellar/jupyterlab/4.3.6/libexec/lib/python3.13/site-packages (from ipykernel->-r requirements.txt (line 9)) (1.6.0)\r\n",
      "Requirement already satisfied: psutil in /opt/homebrew/Cellar/jupyterlab/4.3.6/libexec/lib/python3.13/site-packages (from ipykernel->-r requirements.txt (line 9)) (7.0.0)\r\n",
      "Requirement already satisfied: pyzmq>=24 in /opt/homebrew/Cellar/jupyterlab/4.3.6/libexec/lib/python3.13/site-packages (from ipykernel->-r requirements.txt (line 9)) (26.3.0)\r\n",
      "Requirement already satisfied: tornado>=6.1 in /opt/homebrew/Cellar/jupyterlab/4.3.6/libexec/lib/python3.13/site-packages (from ipykernel->-r requirements.txt (line 9)) (6.4.2)\r\n",
      "Requirement already satisfied: traitlets>=5.4.0 in /opt/homebrew/Cellar/jupyterlab/4.3.6/libexec/lib/python3.13/site-packages (from ipykernel->-r requirements.txt (line 9)) (5.14.3)\r\n",
      "Requirement already satisfied: decorator in /opt/homebrew/Cellar/jupyterlab/4.3.6/libexec/lib/python3.13/site-packages (from ipython>=7.23.1->ipykernel->-r requirements.txt (line 9)) (5.2.1)\r\n",
      "Requirement already satisfied: ipython-pygments-lexers in /opt/homebrew/Cellar/jupyterlab/4.3.6/libexec/lib/python3.13/site-packages (from ipython>=7.23.1->ipykernel->-r requirements.txt (line 9)) (1.1.1)\r\n",
      "Requirement already satisfied: jedi>=0.16 in /opt/homebrew/Cellar/jupyterlab/4.3.6/libexec/lib/python3.13/site-packages (from ipython>=7.23.1->ipykernel->-r requirements.txt (line 9)) (0.19.2)\r\n",
      "Requirement already satisfied: pexpect>4.3 in /opt/homebrew/Cellar/jupyterlab/4.3.6/libexec/lib/python3.13/site-packages (from ipython>=7.23.1->ipykernel->-r requirements.txt (line 9)) (4.9.0)\r\n",
      "Requirement already satisfied: prompt_toolkit<3.1.0,>=3.0.41 in /opt/homebrew/Cellar/jupyterlab/4.3.6/libexec/lib/python3.13/site-packages (from ipython>=7.23.1->ipykernel->-r requirements.txt (line 9)) (3.0.50)\r\n",
      "Requirement already satisfied: pygments>=2.4.0 in /opt/homebrew/Cellar/jupyterlab/4.3.6/libexec/lib/python3.13/site-packages (from ipython>=7.23.1->ipykernel->-r requirements.txt (line 9)) (2.19.1)\r\n",
      "Requirement already satisfied: stack_data in /opt/homebrew/Cellar/jupyterlab/4.3.6/libexec/lib/python3.13/site-packages (from ipython>=7.23.1->ipykernel->-r requirements.txt (line 9)) (0.6.3)\r\n",
      "Requirement already satisfied: platformdirs>=2.5 in /opt/homebrew/Cellar/jupyterlab/4.3.6/libexec/lib/python3.13/site-packages (from jupyter-core!=5.0.*,>=4.12->ipykernel->-r requirements.txt (line 9)) (4.3.6)\r\n",
      "Requirement already satisfied: six>=1.5 in /opt/homebrew/Cellar/jupyterlab/4.3.6/libexec/lib/python3.13/site-packages (from python-dateutil>=2.8.2->pandas<3.0,>=1.5->-r requirements.txt (line 2)) (1.17.0)\r\n",
      "Collecting scikit-learn<2.0,>=1.0 (from -r requirements.txt (line 4))\r\n",
      "  Using cached scikit_learn-1.6.1-cp313-cp313-macosx_12_0_arm64.whl.metadata (31 kB)\r\n",
      "Requirement already satisfied: parso<0.9.0,>=0.8.4 in /opt/homebrew/Cellar/jupyterlab/4.3.6/libexec/lib/python3.13/site-packages (from jedi>=0.16->ipython>=7.23.1->ipykernel->-r requirements.txt (line 9)) (0.8.4)\r\n"
     ]
    },
    {
     "name": "stdout",
     "output_type": "stream",
     "text": [
      "Requirement already satisfied: ptyprocess>=0.5 in /opt/homebrew/Cellar/jupyterlab/4.3.6/libexec/lib/python3.13/site-packages (from pexpect>4.3->ipython>=7.23.1->ipykernel->-r requirements.txt (line 9)) (0.7.0)\r\n",
      "Requirement already satisfied: wcwidth in /opt/homebrew/Cellar/jupyterlab/4.3.6/libexec/lib/python3.13/site-packages (from prompt_toolkit<3.1.0,>=3.0.41->ipython>=7.23.1->ipykernel->-r requirements.txt (line 9)) (0.2.13)\r\n",
      "Requirement already satisfied: executing>=1.2.0 in /opt/homebrew/Cellar/jupyterlab/4.3.6/libexec/lib/python3.13/site-packages (from stack_data->ipython>=7.23.1->ipykernel->-r requirements.txt (line 9)) (2.2.0)\r\n",
      "Requirement already satisfied: asttokens>=2.1.0 in /opt/homebrew/Cellar/jupyterlab/4.3.6/libexec/lib/python3.13/site-packages (from stack_data->ipython>=7.23.1->ipykernel->-r requirements.txt (line 9)) (3.0.0)\r\n",
      "Requirement already satisfied: pure_eval in /opt/homebrew/Cellar/jupyterlab/4.3.6/libexec/lib/python3.13/site-packages (from stack_data->ipython>=7.23.1->ipykernel->-r requirements.txt (line 9)) (0.2.3)\r\n",
      "Downloading pandas-2.3.0-cp313-cp313-macosx_11_0_arm64.whl (10.7 MB)\r\n",
      "\u001b[?25l   \u001b[38;5;237m━━━━━━━━━━━━━━━━━━━━━━━━━━━━━━━━━━━━━━━━\u001b[0m \u001b[32m0.0/10.7 MB\u001b[0m \u001b[31m?\u001b[0m eta \u001b[36m-:--:--\u001b[0m"
     ]
    },
    {
     "name": "stdout",
     "output_type": "stream",
     "text": [
      "\r",
      "\u001b[2K   \u001b[38;2;114;156;31m━━━━━━━━━━━━━━━━━━━━━━━━━━━━━━━━━━━━━━━━\u001b[0m \u001b[32m10.7/10.7 MB\u001b[0m \u001b[31m74.9 MB/s\u001b[0m eta \u001b[36m0:00:00\u001b[0m\r\n",
      "\u001b[?25hDownloading numpy-2.3.0-cp313-cp313-macosx_14_0_arm64.whl (5.1 MB)\r\n",
      "\u001b[?25l   \u001b[38;5;237m━━━━━━━━━━━━━━━━━━━━━━━━━━━━━━━━━━━━━━━━\u001b[0m \u001b[32m0.0/5.1 MB\u001b[0m \u001b[31m?\u001b[0m eta \u001b[36m-:--:--\u001b[0m"
     ]
    },
    {
     "name": "stdout",
     "output_type": "stream",
     "text": [
      "\r",
      "\u001b[2K   \u001b[38;2;114;156;31m━━━━━━━━━━━━━━━━━━━━━━━━━━━━━━━━━━━━━━━━\u001b[0m \u001b[32m5.1/5.1 MB\u001b[0m \u001b[31m71.2 MB/s\u001b[0m eta \u001b[36m0:00:00\u001b[0m\r\n",
      "\u001b[?25h"
     ]
    },
    {
     "name": "stdout",
     "output_type": "stream",
     "text": [
      "Using cached xgboost-2.1.4-py3-none-macosx_12_0_arm64.whl (1.9 MB)\r\n",
      "Downloading imbalanced_learn-0.13.0-py3-none-any.whl (238 kB)\r\n",
      "Downloading matplotlib-3.10.3-cp313-cp313-macosx_11_0_arm64.whl (8.1 MB)\r\n",
      "\u001b[?25l   \u001b[38;5;237m━━━━━━━━━━━━━━━━━━━━━━━━━━━━━━━━━━━━━━━━\u001b[0m \u001b[32m0.0/8.1 MB\u001b[0m \u001b[31m?\u001b[0m eta \u001b[36m-:--:--\u001b[0m"
     ]
    },
    {
     "name": "stdout",
     "output_type": "stream",
     "text": [
      "\r",
      "\u001b[2K   \u001b[38;2;114;156;31m━━━━━━━━━━━━━━━━━━━━━━━━━━━━━━━━━━━━━━━━\u001b[0m \u001b[32m8.1/8.1 MB\u001b[0m \u001b[31m72.6 MB/s\u001b[0m eta \u001b[36m0:00:00\u001b[0m\r\n",
      "\u001b[?25h"
     ]
    },
    {
     "name": "stdout",
     "output_type": "stream",
     "text": [
      "Using cached seaborn-0.13.2-py3-none-any.whl (294 kB)\r\n",
      "Using cached contourpy-1.3.2-cp313-cp313-macosx_11_0_arm64.whl (255 kB)\r\n",
      "Using cached cycler-0.12.1-py3-none-any.whl (8.3 kB)\r\n",
      "Downloading fonttools-4.58.2-cp313-cp313-macosx_10_13_universal2.whl (2.7 MB)\r\n",
      "\u001b[?25l   \u001b[38;5;237m━━━━━━━━━━━━━━━━━━━━━━━━━━━━━━━━━━━━━━━━\u001b[0m \u001b[32m0.0/2.7 MB\u001b[0m \u001b[31m?\u001b[0m eta \u001b[36m-:--:--\u001b[0m"
     ]
    },
    {
     "name": "stdout",
     "output_type": "stream",
     "text": [
      "\r",
      "\u001b[2K   \u001b[38;2;114;156;31m━━━━━━━━━━━━━━━━━━━━━━━━━━━━━━━━━━━━━━━━\u001b[0m \u001b[32m2.7/2.7 MB\u001b[0m \u001b[31m68.3 MB/s\u001b[0m eta \u001b[36m0:00:00\u001b[0m\r\n",
      "\u001b[?25hUsing cached joblib-1.5.1-py3-none-any.whl (307 kB)\r\n",
      "Using cached kiwisolver-1.4.8-cp313-cp313-macosx_11_0_arm64.whl (65 kB)\r\n",
      "Using cached pillow-11.2.1-cp313-cp313-macosx_11_0_arm64.whl (3.0 MB)\r\n",
      "Using cached pyparsing-3.2.3-py3-none-any.whl (111 kB)\r\n",
      "Using cached pytz-2025.2-py2.py3-none-any.whl (509 kB)\r\n",
      "Downloading scipy-1.15.3-cp313-cp313-macosx_14_0_arm64.whl (22.4 MB)\r\n",
      "\u001b[?25l   \u001b[38;5;237m━━━━━━━━━━━━━━━━━━━━━━━━━━━━━━━━━━━━━━━━\u001b[0m \u001b[32m0.0/22.4 MB\u001b[0m \u001b[31m?\u001b[0m eta \u001b[36m-:--:--\u001b[0m"
     ]
    },
    {
     "name": "stdout",
     "output_type": "stream",
     "text": [
      "\r",
      "\u001b[2K   \u001b[38;2;249;38;114m━━━━━━━━━━━━━━━━━━━━━━━━━━━━━━━\u001b[0m\u001b[38;2;249;38;114m╸\u001b[0m\u001b[38;5;237m━━━━━━━━\u001b[0m \u001b[32m17.8/22.4 MB\u001b[0m \u001b[31m93.5 MB/s\u001b[0m eta \u001b[36m0:00:01\u001b[0m"
     ]
    },
    {
     "name": "stdout",
     "output_type": "stream",
     "text": [
      "\r",
      "\u001b[2K   \u001b[38;2;114;156;31m━━━━━━━━━━━━━━━━━━━━━━━━━━━━━━━━━━━━━━━━\u001b[0m \u001b[32m22.4/22.4 MB\u001b[0m \u001b[31m83.6 MB/s\u001b[0m eta \u001b[36m0:00:00\u001b[0m\r\n",
      "\u001b[?25h"
     ]
    },
    {
     "name": "stdout",
     "output_type": "stream",
     "text": [
      "Downloading sklearn_compat-0.1.3-py3-none-any.whl (18 kB)\r\n",
      "Using cached scikit_learn-1.6.1-cp313-cp313-macosx_12_0_arm64.whl (11.1 MB)\r\n",
      "Using cached threadpoolctl-3.6.0-py3-none-any.whl (18 kB)\r\n",
      "Using cached tzdata-2025.2-py2.py3-none-any.whl (347 kB)\r\n"
     ]
    },
    {
     "name": "stdout",
     "output_type": "stream",
     "text": [
      "Installing collected packages: pytz, tzdata, threadpoolctl, pyparsing, pillow, numpy, kiwisolver, joblib, fonttools, cycler, scipy, pandas, contourpy, xgboost, scikit-learn, matplotlib, sklearn-compat, seaborn, imbalanced-learn\r\n"
     ]
    },
    {
     "name": "stdout",
     "output_type": "stream",
     "text": [
      "Successfully installed contourpy-1.3.2 cycler-0.12.1 fonttools-4.58.2 imbalanced-learn-0.13.0 joblib-1.5.1 kiwisolver-1.4.8 matplotlib-3.10.3 numpy-2.3.0 pandas-2.3.0 pillow-11.2.1 pyparsing-3.2.3 pytz-2025.2 scikit-learn-1.6.1 scipy-1.15.3 seaborn-0.13.2 sklearn-compat-0.1.3 threadpoolctl-3.6.0 tzdata-2025.2 xgboost-2.1.4\r\n"
     ]
    },
    {
     "name": "stdout",
     "output_type": "stream",
     "text": [
      "\r\n",
      "\u001b[1m[\u001b[0m\u001b[34;49mnotice\u001b[0m\u001b[1;39;49m]\u001b[0m\u001b[39;49m A new release of pip is available: \u001b[0m\u001b[31;49m25.0\u001b[0m\u001b[39;49m -> \u001b[0m\u001b[32;49m25.1.1\u001b[0m\r\n",
      "\u001b[1m[\u001b[0m\u001b[34;49mnotice\u001b[0m\u001b[1;39;49m]\u001b[0m\u001b[39;49m To update, run: \u001b[0m\u001b[32;49m/opt/homebrew/Cellar/jupyterlab/4.3.6/libexec/bin/python -m pip install --upgrade pip\u001b[0m\r\n"
     ]
    },
    {
     "name": "stdout",
     "output_type": "stream",
     "text": [
      "Note: you may need to restart the kernel to use updated packages.\n"
     ]
    }
   ],
   "source": [
    "%pip install -r requirements.txt"
   ]
  },
  {
   "cell_type": "markdown",
   "id": "9456ce18",
   "metadata": {},
   "source": [
    "## 1. Setup\n",
    "Import necessary libraries."
   ]
  },
  {
   "cell_type": "code",
   "execution_count": 2,
   "id": "3e9aeb5d",
   "metadata": {
    "execution": {
     "iopub.execute_input": "2025-06-08T03:59:21.443605Z",
     "iopub.status.busy": "2025-06-08T03:59:21.443433Z",
     "iopub.status.idle": "2025-06-08T03:59:44.737030Z",
     "shell.execute_reply": "2025-06-08T03:59:44.736385Z"
    }
   },
   "outputs": [],
   "source": [
    "import pandas as pd\n",
    "import numpy as np\n",
    "import os\n",
    "from sklearn.model_selection import train_test_split\n",
    "from sklearn.linear_model import LogisticRegression\n",
    "from sklearn.metrics import accuracy_score, precision_score, recall_score, f1_score, roc_auc_score, confusion_matrix\n",
    "from sklearn.impute import SimpleImputer"
   ]
  },
  {
   "cell_type": "markdown",
   "id": "27bd15fc",
   "metadata": {},
   "source": [
    "## 2. Data Loading\n",
    "\n",
    "Implement the `load_data` function to read the dataset."
   ]
  },
  {
   "cell_type": "code",
   "execution_count": 3,
   "id": "012d10ab",
   "metadata": {
    "execution": {
     "iopub.execute_input": "2025-06-08T03:59:44.740008Z",
     "iopub.status.busy": "2025-06-08T03:59:44.739728Z",
     "iopub.status.idle": "2025-06-08T03:59:44.742499Z",
     "shell.execute_reply": "2025-06-08T03:59:44.742068Z"
    }
   },
   "outputs": [],
   "source": [
    "def load_data(file_path):\n",
    "    \"\"\"\n",
    "    Load the synthetic health data from a CSV file.\n",
    "    \n",
    "    Args:\n",
    "        file_path: Path to the CSV file\n",
    "        \n",
    "    Returns:\n",
    "        DataFrame containing the data\n",
    "    \"\"\"\n",
    "    # Load the CSV file using pandas\n",
    "    data = pd.read_csv(file_path)\n",
    "    return data "
   ]
  },
  {
   "cell_type": "code",
   "execution_count": 4,
   "id": "79aad558",
   "metadata": {
    "execution": {
     "iopub.execute_input": "2025-06-08T03:59:44.744338Z",
     "iopub.status.busy": "2025-06-08T03:59:44.744161Z",
     "iopub.status.idle": "2025-06-08T03:59:44.759998Z",
     "shell.execute_reply": "2025-06-08T03:59:44.759660Z"
    }
   },
   "outputs": [],
   "source": [
    "data = load_data(\"data/synthetic_health_data.csv\")\n",
    "#data"
   ]
  },
  {
   "cell_type": "markdown",
   "id": "f47dff06",
   "metadata": {},
   "source": [
    "## 3. Data Preparation\n",
    "\n",
    "Implement `prepare_data_part1` to select features, split data, and handle missing values."
   ]
  },
  {
   "cell_type": "code",
   "execution_count": 5,
   "id": "836ff6b8",
   "metadata": {
    "execution": {
     "iopub.execute_input": "2025-06-08T03:59:44.761759Z",
     "iopub.status.busy": "2025-06-08T03:59:44.761644Z",
     "iopub.status.idle": "2025-06-08T03:59:44.764561Z",
     "shell.execute_reply": "2025-06-08T03:59:44.764303Z"
    }
   },
   "outputs": [],
   "source": [
    "def prepare_data_part1(df, test_size=0.2, random_state=42):\n",
    "    \"\"\"\n",
    "    Prepare data for modeling: select features, split into train/test sets, handle missing values.\n",
    "    \n",
    "    Args:\n",
    "        df: Input DataFrame\n",
    "        test_size: Proportion of data for testing\n",
    "        random_state: Random seed for reproducibility\n",
    "        \n",
    "    Returns:\n",
    "        X_train, X_test, y_train, y_test\n",
    "    \"\"\"\n",
    "    # 1. Select relevant features (age, systolic_bp, diastolic_bp, glucose_level, bmi)\n",
    "    X_full = df[[\"age\", \"systolic_bp\", \"diastolic_bp\", \"glucose_level\", \"bmi\"]]\n",
    "\n",
    "    # 2. Select target variable (disease_outcome)\n",
    "    y_full = df[[\"disease_outcome\"]]\n",
    "\n",
    "    # 3. Split data into training and testing sets\n",
    "    X_train, X_test, y_train, y_test = train_test_split(X_full, y_full, test_size=test_size, random_state=random_state)\n",
    "\n",
    "    # 4. Handle missing values using SimpleImputer\n",
    "    imputer = SimpleImputer(strategy=\"mean\")\n",
    "    X_train = imputer.fit_transform(X_train)\n",
    "    X_test = imputer.transform(X_test)\n",
    "    \n",
    "    # Placeholder return - replace with your implementation\n",
    "    return X_train, X_test, y_train, y_test"
   ]
  },
  {
   "cell_type": "code",
   "execution_count": 6,
   "id": "740a3d1e",
   "metadata": {
    "execution": {
     "iopub.execute_input": "2025-06-08T03:59:44.766005Z",
     "iopub.status.busy": "2025-06-08T03:59:44.765883Z",
     "iopub.status.idle": "2025-06-08T03:59:44.772813Z",
     "shell.execute_reply": "2025-06-08T03:59:44.772499Z"
    }
   },
   "outputs": [],
   "source": [
    "X_train, X_test, y_train, y_test = prepare_data_part1(data)\n",
    "#X_train\n",
    "#X_test\n",
    "#y_train\n",
    "#y_test"
   ]
  },
  {
   "cell_type": "markdown",
   "id": "549d34de",
   "metadata": {},
   "source": [
    "## 4. Model Training\n",
    "\n",
    "Implement `train_logistic_regression`."
   ]
  },
  {
   "cell_type": "code",
   "execution_count": 7,
   "id": "678b560c",
   "metadata": {
    "execution": {
     "iopub.execute_input": "2025-06-08T03:59:44.774403Z",
     "iopub.status.busy": "2025-06-08T03:59:44.774289Z",
     "iopub.status.idle": "2025-06-08T03:59:44.776494Z",
     "shell.execute_reply": "2025-06-08T03:59:44.776174Z"
    }
   },
   "outputs": [],
   "source": [
    "def train_logistic_regression(X_train, y_train):\n",
    "    \"\"\"\n",
    "    Train a logistic regression model.\n",
    "    \n",
    "    Args:\n",
    "        X_train: Training features\n",
    "        y_train: Training target\n",
    "        \n",
    "    Returns:\n",
    "        Trained logistic regression model\n",
    "    \"\"\"\n",
    "    # Initialize and train a LogisticRegression model\n",
    "    model = LogisticRegression().fit(X_train, y_train)\n",
    "    \n",
    "    return model"
   ]
  },
  {
   "cell_type": "code",
   "execution_count": 8,
   "id": "8eba199a",
   "metadata": {
    "execution": {
     "iopub.execute_input": "2025-06-08T03:59:44.777933Z",
     "iopub.status.busy": "2025-06-08T03:59:44.777825Z",
     "iopub.status.idle": "2025-06-08T03:59:44.796032Z",
     "shell.execute_reply": "2025-06-08T03:59:44.795774Z"
    }
   },
   "outputs": [],
   "source": [
    "model = LogisticRegression().fit(X_train, y_train.values.ravel())"
   ]
  },
  {
   "cell_type": "markdown",
   "id": "43b74136",
   "metadata": {},
   "source": [
    "## 5. Model Evaluation\n",
    "\n",
    "Implement `calculate_evaluation_metrics` to assess the model's performance."
   ]
  },
  {
   "cell_type": "code",
   "execution_count": 9,
   "id": "01d9ccc9",
   "metadata": {
    "execution": {
     "iopub.execute_input": "2025-06-08T03:59:44.797346Z",
     "iopub.status.busy": "2025-06-08T03:59:44.797260Z",
     "iopub.status.idle": "2025-06-08T03:59:44.799840Z",
     "shell.execute_reply": "2025-06-08T03:59:44.799605Z"
    }
   },
   "outputs": [],
   "source": [
    "\n",
    "def calculate_evaluation_metrics(model, X_test, y_test):\n",
    "    \"\"\"\n",
    "    Calculate classification evaluation metrics.\n",
    "    \n",
    "    Args:\n",
    "        model: Trained model\n",
    "        X_test: Test features\n",
    "        y_test: Test target\n",
    "        \n",
    "    Returns:\n",
    "        Dictionary containing accuracy, precision, recall, f1, auc, and confusion_matrix\n",
    "    \"\"\"\n",
    "    # 1. Generate predictions\n",
    "    y_pred = model.predict(X_test)\n",
    "    y_prob = model.predict_proba(X_test)[:, 1] \n",
    "\n",
    "    # 2. Calculate metrics: accuracy, precision, recall, f1, auc\n",
    "    acc = accuracy_score(y_test, y_pred)\n",
    "    prec = precision_score(y_test, y_pred)\n",
    "    rec = recall_score(y_test, y_pred)\n",
    "    f1 = f1_score(y_test, y_pred)\n",
    "    auc = roc_auc_score(y_test, y_prob)\n",
    "\n",
    "    # 3. Create confusion matrix\n",
    "    cm = confusion_matrix(y_test, y_pred)\n",
    "\n",
    "    # 4. Return metrics in a dictionary\n",
    "    return {\"accuracy\": acc,\n",
    "        \"precision\": prec,\n",
    "        \"recall\": rec,\n",
    "        \"f1\": f1,\n",
    "        \"auc\": auc,\n",
    "        \"confusion_matrix\": cm}\n"
   ]
  },
  {
   "cell_type": "markdown",
   "id": "cc6e1b29",
   "metadata": {},
   "source": [
    "## 6. Save Results\n",
    "\n",
    "Save the calculated metrics to a text file."
   ]
  },
  {
   "cell_type": "code",
   "execution_count": 10,
   "id": "e5ce99a2",
   "metadata": {
    "execution": {
     "iopub.execute_input": "2025-06-08T03:59:44.801271Z",
     "iopub.status.busy": "2025-06-08T03:59:44.801180Z",
     "iopub.status.idle": "2025-06-08T03:59:44.803974Z",
     "shell.execute_reply": "2025-06-08T03:59:44.803632Z"
    }
   },
   "outputs": [],
   "source": [
    "# Create results directory and save metrics\n",
    "\n",
    "def save_metrics_to_file(metrics, file_path=\"results/results_part1.txt\"):\n",
    "    # 1. Create 'results' directory if it doesn't exist\n",
    "    os.makedirs(os.path.dirname(file_path), exist_ok=True)\n",
    "\n",
    "    metrics = calculate_evaluation_metrics(model, X_test, y_test)\n",
    "\n",
    "    formatted_metrics = []\n",
    "\n",
    "    # 2. Format metrics as strings\n",
    "    for key, value in metrics.items():\n",
    "        if key == \"confusion_matrix\":\n",
    "            formatted_metrics.append(f\"{key}:\\n{value[0]}\\n{value[1]}\")\n",
    "        else:\n",
    "            formatted_metrics.append(f\"{key}: {value:.4f}\")\n",
    "\n",
    "    # 3. Write metrics to 'results/results_part1.txt'\n",
    "    with open(\"results/results_part1.txt\", \"w\") as f:\n",
    "        f.write(\"\\n\".join(formatted_metrics))\n"
   ]
  },
  {
   "cell_type": "markdown",
   "id": "ffcb11b2",
   "metadata": {},
   "source": [
    "## 7. Interpret Results\n",
    "\n",
    "Implement a function to analyze the model performance on imbalanced data."
   ]
  },
  {
   "cell_type": "code",
   "execution_count": 11,
   "id": "d0fee83e",
   "metadata": {
    "execution": {
     "iopub.execute_input": "2025-06-08T03:59:44.805252Z",
     "iopub.status.busy": "2025-06-08T03:59:44.805156Z",
     "iopub.status.idle": "2025-06-08T03:59:44.807802Z",
     "shell.execute_reply": "2025-06-08T03:59:44.807579Z"
    }
   },
   "outputs": [],
   "source": [
    "def interpret_results(metrics):\n",
    "    \"\"\"\n",
    "    Analyze model performance on imbalanced data.\n",
    "    \n",
    "    Args:\n",
    "        metrics: Dictionary containing evaluation metrics\n",
    "        \n",
    "    Returns:\n",
    "        Dictionary with keys:\n",
    "        - 'best_metric': Name of the metric that performed best\n",
    "        - 'worst_metric': Name of the metric that performed worst\n",
    "        - 'imbalance_impact_score': A score from 0-1 indicating how much\n",
    "          the class imbalance affected results (0=no impact, 1=severe impact)\n",
    "    \"\"\"\n",
    "    # 1. Determine which metric performed best and worst\n",
    "    filtered_metrics = {}\n",
    "    for metric_name, metric_value in metrics.items():\n",
    "        if metric_name != \"confusion_matrix\":\n",
    "            filtered_metrics[metric_name] = metric_value\n",
    "\n",
    "    best_metric_name = max(filtered_metrics, key=filtered_metrics.get)\n",
    "    worst_metric_name = min(filtered_metrics, key=filtered_metrics.get)\n",
    "\n",
    "    # 2. Calculate an imbalance impact score based on the difference\n",
    "    #    between accuracy and more imbalance-sensitive metrics like F1 or recall\n",
    "    accuracy = metrics.get(\"accuracy\", 0)\n",
    "    recall = metrics.get(\"recall\", 0)\n",
    "    f1 = metrics.get(\"f1\", 0)\n",
    "    imbalance_sensitive_avg = (recall + f1) / 2\n",
    "    imbalance_impact_score = abs(accuracy - imbalance_sensitive_avg)\n",
    "\n",
    "    # 3. Return the results as a dictionary\n",
    "    return {\n",
    "        'best_metric': best_metric_name,\n",
    "        'worst_metric': worst_metric_name,\n",
    "        'imbalance_impact_score': round(imbalance_impact_score, 4)\n",
    "    }"
   ]
  },
  {
   "cell_type": "markdown",
   "id": "a7e3e4c3",
   "metadata": {},
   "source": [
    "## 8. Main Execution\n",
    "\n",
    "Run the complete workflow."
   ]
  },
  {
   "cell_type": "code",
   "execution_count": 12,
   "id": "a271758d",
   "metadata": {
    "execution": {
     "iopub.execute_input": "2025-06-08T03:59:44.808954Z",
     "iopub.status.busy": "2025-06-08T03:59:44.808878Z",
     "iopub.status.idle": "2025-06-08T03:59:44.846417Z",
     "shell.execute_reply": "2025-06-08T03:59:44.846192Z"
    }
   },
   "outputs": [
    {
     "name": "stdout",
     "output_type": "stream",
     "text": [
      "accuracy: 0.9168\n",
      "precision: 0.6615\n",
      "recall: 0.3007\n",
      "f1: 0.4135\n",
      "auc: 0.9084\n",
      "\n",
      "Results Interpretation:\n",
      "best_metric: accuracy\n",
      "worst_metric: recall\n",
      "imbalance_impact_score: 0.5597\n"
     ]
    },
    {
     "name": "stderr",
     "output_type": "stream",
     "text": [
      "/opt/homebrew/Cellar/jupyterlab/4.3.6/libexec/lib/python3.13/site-packages/sklearn/utils/validation.py:1408: DataConversionWarning: A column-vector y was passed when a 1d array was expected. Please change the shape of y to (n_samples, ), for example using ravel().\n",
      "  y = column_or_1d(y, warn=True)\n"
     ]
    }
   ],
   "source": [
    "# Main execution\n",
    "if __name__ == \"__main__\":\n",
    "    # 1. Load data\n",
    "    data_file = 'data/synthetic_health_data.csv'\n",
    "    df = load_data(data_file)\n",
    "    \n",
    "    # 2. Prepare data\n",
    "    X_train, X_test, y_train, y_test = prepare_data_part1(df)\n",
    "    \n",
    "    # 3. Train model\n",
    "    model = train_logistic_regression(X_train, y_train)\n",
    "    \n",
    "    # 4. Evaluate model\n",
    "    metrics = calculate_evaluation_metrics(model, X_test, y_test)\n",
    "    \n",
    "    # 5. Print metrics\n",
    "    for metric, value in metrics.items():\n",
    "        if metric != 'confusion_matrix':\n",
    "            print(f\"{metric}: {value:.4f}\")\n",
    "    \n",
    "    # 6. Save results\n",
    "    save_metrics_to_file(metrics)\n",
    "    \n",
    "    # 7. Interpret results\n",
    "    interpretation = interpret_results(metrics)\n",
    "    print(\"\\nResults Interpretation:\")\n",
    "    for key, value in interpretation.items():\n",
    "        print(f\"{key}: {value}\")"
   ]
  }
 ],
 "metadata": {
  "kernelspec": {
   "display_name": "base",
   "language": "python",
   "name": "python3"
  },
  "language_info": {
   "codemirror_mode": {
    "name": "ipython",
    "version": 3
   },
   "file_extension": ".py",
   "mimetype": "text/x-python",
   "name": "python",
   "nbconvert_exporter": "python",
   "pygments_lexer": "ipython3",
   "version": "3.13.2"
  }
 },
 "nbformat": 4,
 "nbformat_minor": 5
}
