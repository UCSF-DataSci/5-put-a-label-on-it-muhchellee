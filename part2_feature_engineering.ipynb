{
 "cells": [
  {
   "cell_type": "markdown",
   "id": "ee80806a",
   "metadata": {},
   "source": [
    "# Part 2: Time Series Features & Tree-Based Models\n",
    "\n",
    "Extract basic time-series features from heart rate data, train Random Forest and XGBoost models, and compare their performance."
   ]
  },
  {
   "cell_type": "code",
   "execution_count": 1,
   "id": "5cb921a5",
   "metadata": {
    "execution": {
     "iopub.execute_input": "2025-06-08T04:04:22.985462Z",
     "iopub.status.busy": "2025-06-08T04:04:22.985152Z",
     "iopub.status.idle": "2025-06-08T04:04:23.645698Z",
     "shell.execute_reply": "2025-06-08T04:04:23.645293Z"
    }
   },
   "outputs": [
    {
     "name": "stdout",
     "output_type": "stream",
     "text": [
      "Requirement already satisfied: pandas<3.0,>=1.5 in /opt/homebrew/Cellar/jupyterlab/4.3.6/libexec/lib/python3.13/site-packages (from -r requirements.txt (line 2)) (2.3.0)\r\n",
      "Requirement already satisfied: numpy<3.0,>=1.20 in /opt/homebrew/Cellar/jupyterlab/4.3.6/libexec/lib/python3.13/site-packages (from -r requirements.txt (line 3)) (2.3.0)\r\n",
      "Requirement already satisfied: scikit-learn<2.0,>=1.0 in /opt/homebrew/Cellar/jupyterlab/4.3.6/libexec/lib/python3.13/site-packages (from -r requirements.txt (line 4)) (1.6.1)\r\n",
      "Requirement already satisfied: xgboost<3.0,>=1.5 in /opt/homebrew/Cellar/jupyterlab/4.3.6/libexec/lib/python3.13/site-packages (from -r requirements.txt (line 5)) (2.1.4)\r\n",
      "Requirement already satisfied: imbalanced-learn<1.0,>=0.9 in /opt/homebrew/Cellar/jupyterlab/4.3.6/libexec/lib/python3.13/site-packages (from -r requirements.txt (line 6)) (0.13.0)\r\n",
      "Requirement already satisfied: matplotlib<4.0,>=3.5 in /opt/homebrew/Cellar/jupyterlab/4.3.6/libexec/lib/python3.13/site-packages (from -r requirements.txt (line 7)) (3.10.3)\r\n",
      "Requirement already satisfied: seaborn<1.0,>=0.11 in /opt/homebrew/Cellar/jupyterlab/4.3.6/libexec/lib/python3.13/site-packages (from -r requirements.txt (line 8)) (0.13.2)\r\n",
      "Requirement already satisfied: ipykernel in /opt/homebrew/Cellar/jupyterlab/4.3.6/libexec/lib/python3.13/site-packages (from -r requirements.txt (line 9)) (6.29.5)\r\n",
      "Requirement already satisfied: python-dateutil>=2.8.2 in /opt/homebrew/Cellar/jupyterlab/4.3.6/libexec/lib/python3.13/site-packages (from pandas<3.0,>=1.5->-r requirements.txt (line 2)) (2.9.0.post0)\r\n",
      "Requirement already satisfied: pytz>=2020.1 in /opt/homebrew/Cellar/jupyterlab/4.3.6/libexec/lib/python3.13/site-packages (from pandas<3.0,>=1.5->-r requirements.txt (line 2)) (2025.2)\r\n",
      "Requirement already satisfied: tzdata>=2022.7 in /opt/homebrew/Cellar/jupyterlab/4.3.6/libexec/lib/python3.13/site-packages (from pandas<3.0,>=1.5->-r requirements.txt (line 2)) (2025.2)\r\n",
      "Requirement already satisfied: scipy>=1.6.0 in /opt/homebrew/Cellar/jupyterlab/4.3.6/libexec/lib/python3.13/site-packages (from scikit-learn<2.0,>=1.0->-r requirements.txt (line 4)) (1.15.3)\r\n",
      "Requirement already satisfied: joblib>=1.2.0 in /opt/homebrew/Cellar/jupyterlab/4.3.6/libexec/lib/python3.13/site-packages (from scikit-learn<2.0,>=1.0->-r requirements.txt (line 4)) (1.5.1)\r\n",
      "Requirement already satisfied: threadpoolctl>=3.1.0 in /opt/homebrew/Cellar/jupyterlab/4.3.6/libexec/lib/python3.13/site-packages (from scikit-learn<2.0,>=1.0->-r requirements.txt (line 4)) (3.6.0)\r\n",
      "Requirement already satisfied: sklearn-compat<1,>=0.1 in /opt/homebrew/Cellar/jupyterlab/4.3.6/libexec/lib/python3.13/site-packages (from imbalanced-learn<1.0,>=0.9->-r requirements.txt (line 6)) (0.1.3)\r\n"
     ]
    },
    {
     "name": "stdout",
     "output_type": "stream",
     "text": [
      "Requirement already satisfied: contourpy>=1.0.1 in /opt/homebrew/Cellar/jupyterlab/4.3.6/libexec/lib/python3.13/site-packages (from matplotlib<4.0,>=3.5->-r requirements.txt (line 7)) (1.3.2)\r\n",
      "Requirement already satisfied: cycler>=0.10 in /opt/homebrew/Cellar/jupyterlab/4.3.6/libexec/lib/python3.13/site-packages (from matplotlib<4.0,>=3.5->-r requirements.txt (line 7)) (0.12.1)\r\n",
      "Requirement already satisfied: fonttools>=4.22.0 in /opt/homebrew/Cellar/jupyterlab/4.3.6/libexec/lib/python3.13/site-packages (from matplotlib<4.0,>=3.5->-r requirements.txt (line 7)) (4.58.2)\r\n",
      "Requirement already satisfied: kiwisolver>=1.3.1 in /opt/homebrew/Cellar/jupyterlab/4.3.6/libexec/lib/python3.13/site-packages (from matplotlib<4.0,>=3.5->-r requirements.txt (line 7)) (1.4.8)\r\n",
      "Requirement already satisfied: packaging>=20.0 in /opt/homebrew/Cellar/jupyterlab/4.3.6/libexec/lib/python3.13/site-packages (from matplotlib<4.0,>=3.5->-r requirements.txt (line 7)) (24.2)\r\n",
      "Requirement already satisfied: pillow>=8 in /opt/homebrew/Cellar/jupyterlab/4.3.6/libexec/lib/python3.13/site-packages (from matplotlib<4.0,>=3.5->-r requirements.txt (line 7)) (11.2.1)\r\n",
      "Requirement already satisfied: pyparsing>=2.3.1 in /opt/homebrew/Cellar/jupyterlab/4.3.6/libexec/lib/python3.13/site-packages (from matplotlib<4.0,>=3.5->-r requirements.txt (line 7)) (3.2.3)\r\n",
      "Requirement already satisfied: appnope in /opt/homebrew/Cellar/jupyterlab/4.3.6/libexec/lib/python3.13/site-packages (from ipykernel->-r requirements.txt (line 9)) (0.1.4)\r\n",
      "Requirement already satisfied: comm>=0.1.1 in /opt/homebrew/Cellar/jupyterlab/4.3.6/libexec/lib/python3.13/site-packages (from ipykernel->-r requirements.txt (line 9)) (0.2.2)\r\n",
      "Requirement already satisfied: debugpy>=1.6.5 in /opt/homebrew/Cellar/jupyterlab/4.3.6/libexec/lib/python3.13/site-packages (from ipykernel->-r requirements.txt (line 9)) (1.8.13)\r\n",
      "Requirement already satisfied: ipython>=7.23.1 in /opt/homebrew/Cellar/jupyterlab/4.3.6/libexec/lib/python3.13/site-packages (from ipykernel->-r requirements.txt (line 9)) (9.0.2)\r\n",
      "Requirement already satisfied: jupyter-client>=6.1.12 in /opt/homebrew/Cellar/jupyterlab/4.3.6/libexec/lib/python3.13/site-packages (from ipykernel->-r requirements.txt (line 9)) (8.6.3)\r\n",
      "Requirement already satisfied: jupyter-core!=5.0.*,>=4.12 in /opt/homebrew/Cellar/jupyterlab/4.3.6/libexec/lib/python3.13/site-packages (from ipykernel->-r requirements.txt (line 9)) (5.7.2)\r\n",
      "Requirement already satisfied: matplotlib-inline>=0.1 in /opt/homebrew/Cellar/jupyterlab/4.3.6/libexec/lib/python3.13/site-packages (from ipykernel->-r requirements.txt (line 9)) (0.1.7)\r\n",
      "Requirement already satisfied: nest-asyncio in /opt/homebrew/Cellar/jupyterlab/4.3.6/libexec/lib/python3.13/site-packages (from ipykernel->-r requirements.txt (line 9)) (1.6.0)\r\n",
      "Requirement already satisfied: psutil in /opt/homebrew/Cellar/jupyterlab/4.3.6/libexec/lib/python3.13/site-packages (from ipykernel->-r requirements.txt (line 9)) (7.0.0)\r\n",
      "Requirement already satisfied: pyzmq>=24 in /opt/homebrew/Cellar/jupyterlab/4.3.6/libexec/lib/python3.13/site-packages (from ipykernel->-r requirements.txt (line 9)) (26.3.0)\r\n",
      "Requirement already satisfied: tornado>=6.1 in /opt/homebrew/Cellar/jupyterlab/4.3.6/libexec/lib/python3.13/site-packages (from ipykernel->-r requirements.txt (line 9)) (6.4.2)\r\n",
      "Requirement already satisfied: traitlets>=5.4.0 in /opt/homebrew/Cellar/jupyterlab/4.3.6/libexec/lib/python3.13/site-packages (from ipykernel->-r requirements.txt (line 9)) (5.14.3)\r\n",
      "Requirement already satisfied: decorator in /opt/homebrew/Cellar/jupyterlab/4.3.6/libexec/lib/python3.13/site-packages (from ipython>=7.23.1->ipykernel->-r requirements.txt (line 9)) (5.2.1)\r\n",
      "Requirement already satisfied: ipython-pygments-lexers in /opt/homebrew/Cellar/jupyterlab/4.3.6/libexec/lib/python3.13/site-packages (from ipython>=7.23.1->ipykernel->-r requirements.txt (line 9)) (1.1.1)\r\n",
      "Requirement already satisfied: jedi>=0.16 in /opt/homebrew/Cellar/jupyterlab/4.3.6/libexec/lib/python3.13/site-packages (from ipython>=7.23.1->ipykernel->-r requirements.txt (line 9)) (0.19.2)\r\n",
      "Requirement already satisfied: pexpect>4.3 in /opt/homebrew/Cellar/jupyterlab/4.3.6/libexec/lib/python3.13/site-packages (from ipython>=7.23.1->ipykernel->-r requirements.txt (line 9)) (4.9.0)\r\n",
      "Requirement already satisfied: prompt_toolkit<3.1.0,>=3.0.41 in /opt/homebrew/Cellar/jupyterlab/4.3.6/libexec/lib/python3.13/site-packages (from ipython>=7.23.1->ipykernel->-r requirements.txt (line 9)) (3.0.50)\r\n",
      "Requirement already satisfied: pygments>=2.4.0 in /opt/homebrew/Cellar/jupyterlab/4.3.6/libexec/lib/python3.13/site-packages (from ipython>=7.23.1->ipykernel->-r requirements.txt (line 9)) (2.19.1)\r\n",
      "Requirement already satisfied: stack_data in /opt/homebrew/Cellar/jupyterlab/4.3.6/libexec/lib/python3.13/site-packages (from ipython>=7.23.1->ipykernel->-r requirements.txt (line 9)) (0.6.3)\r\n",
      "Requirement already satisfied: platformdirs>=2.5 in /opt/homebrew/Cellar/jupyterlab/4.3.6/libexec/lib/python3.13/site-packages (from jupyter-core!=5.0.*,>=4.12->ipykernel->-r requirements.txt (line 9)) (4.3.6)\r\n",
      "Requirement already satisfied: six>=1.5 in /opt/homebrew/Cellar/jupyterlab/4.3.6/libexec/lib/python3.13/site-packages (from python-dateutil>=2.8.2->pandas<3.0,>=1.5->-r requirements.txt (line 2)) (1.17.0)\r\n",
      "Requirement already satisfied: parso<0.9.0,>=0.8.4 in /opt/homebrew/Cellar/jupyterlab/4.3.6/libexec/lib/python3.13/site-packages (from jedi>=0.16->ipython>=7.23.1->ipykernel->-r requirements.txt (line 9)) (0.8.4)\r\n",
      "Requirement already satisfied: ptyprocess>=0.5 in /opt/homebrew/Cellar/jupyterlab/4.3.6/libexec/lib/python3.13/site-packages (from pexpect>4.3->ipython>=7.23.1->ipykernel->-r requirements.txt (line 9)) (0.7.0)\r\n",
      "Requirement already satisfied: wcwidth in /opt/homebrew/Cellar/jupyterlab/4.3.6/libexec/lib/python3.13/site-packages (from prompt_toolkit<3.1.0,>=3.0.41->ipython>=7.23.1->ipykernel->-r requirements.txt (line 9)) (0.2.13)\r\n",
      "Requirement already satisfied: executing>=1.2.0 in /opt/homebrew/Cellar/jupyterlab/4.3.6/libexec/lib/python3.13/site-packages (from stack_data->ipython>=7.23.1->ipykernel->-r requirements.txt (line 9)) (2.2.0)\r\n",
      "Requirement already satisfied: asttokens>=2.1.0 in /opt/homebrew/Cellar/jupyterlab/4.3.6/libexec/lib/python3.13/site-packages (from stack_data->ipython>=7.23.1->ipykernel->-r requirements.txt (line 9)) (3.0.0)\r\n",
      "Requirement already satisfied: pure_eval in /opt/homebrew/Cellar/jupyterlab/4.3.6/libexec/lib/python3.13/site-packages (from stack_data->ipython>=7.23.1->ipykernel->-r requirements.txt (line 9)) (0.2.3)\r\n"
     ]
    },
    {
     "name": "stdout",
     "output_type": "stream",
     "text": [
      "\r\n",
      "\u001b[1m[\u001b[0m\u001b[34;49mnotice\u001b[0m\u001b[1;39;49m]\u001b[0m\u001b[39;49m A new release of pip is available: \u001b[0m\u001b[31;49m25.0\u001b[0m\u001b[39;49m -> \u001b[0m\u001b[32;49m25.1.1\u001b[0m\r\n",
      "\u001b[1m[\u001b[0m\u001b[34;49mnotice\u001b[0m\u001b[1;39;49m]\u001b[0m\u001b[39;49m To update, run: \u001b[0m\u001b[32;49m/opt/homebrew/Cellar/jupyterlab/4.3.6/libexec/bin/python -m pip install --upgrade pip\u001b[0m\r\n"
     ]
    },
    {
     "name": "stdout",
     "output_type": "stream",
     "text": [
      "Note: you may need to restart the kernel to use updated packages.\n"
     ]
    }
   ],
   "source": [
    "%pip install -r requirements.txt"
   ]
  },
  {
   "cell_type": "markdown",
   "id": "a166edd1",
   "metadata": {},
   "source": [
    "## 1. Setup\n",
    "Import necessary libraries."
   ]
  },
  {
   "cell_type": "code",
   "execution_count": 2,
   "id": "c9054b69",
   "metadata": {
    "execution": {
     "iopub.execute_input": "2025-06-08T04:04:23.647660Z",
     "iopub.status.busy": "2025-06-08T04:04:23.647466Z",
     "iopub.status.idle": "2025-06-08T04:04:24.716118Z",
     "shell.execute_reply": "2025-06-08T04:04:24.715756Z"
    }
   },
   "outputs": [],
   "source": [
    "import pandas as pd\n",
    "import numpy as np\n",
    "import os\n",
    "from sklearn.model_selection import train_test_split\n",
    "from sklearn.ensemble import RandomForestClassifier\n",
    "import xgboost as xgb\n",
    "from sklearn.metrics import roc_auc_score\n",
    "from sklearn.impute import SimpleImputer"
   ]
  },
  {
   "cell_type": "markdown",
   "id": "1aa9fe8a",
   "metadata": {},
   "source": [
    "## 2. Data Loading\n",
    "Load the dataset."
   ]
  },
  {
   "cell_type": "code",
   "execution_count": 3,
   "id": "148cfd21",
   "metadata": {
    "execution": {
     "iopub.execute_input": "2025-06-08T04:04:24.718111Z",
     "iopub.status.busy": "2025-06-08T04:04:24.717910Z",
     "iopub.status.idle": "2025-06-08T04:04:24.720270Z",
     "shell.execute_reply": "2025-06-08T04:04:24.719954Z"
    }
   },
   "outputs": [],
   "source": [
    "def load_data(file_path):\n",
    "    \"\"\"\n",
    "    Load the synthetic health data from a CSV file.\n",
    "    \n",
    "    Args:\n",
    "        file_path: Path to the CSV file\n",
    "        \n",
    "    Returns:\n",
    "        DataFrame containing the data with timestamp parsed as datetime\n",
    "    \"\"\"\n",
    "    # Load the CSV file using pandas\n",
    "    data = pd.read_csv(file_path, parse_dates=[\"timestamp\"])\n",
    "    \n",
    "    return data"
   ]
  },
  {
   "cell_type": "code",
   "execution_count": 4,
   "id": "86c407d3",
   "metadata": {
    "execution": {
     "iopub.execute_input": "2025-06-08T04:04:24.721755Z",
     "iopub.status.busy": "2025-06-08T04:04:24.721607Z",
     "iopub.status.idle": "2025-06-08T04:04:24.723317Z",
     "shell.execute_reply": "2025-06-08T04:04:24.723057Z"
    }
   },
   "outputs": [],
   "source": [
    "#test_df = load_data('data/synthetic_health_data.csv')\n",
    "#test_df"
   ]
  },
  {
   "cell_type": "markdown",
   "id": "d79182a7",
   "metadata": {},
   "source": [
    "## 3. Feature Engineering\n",
    "\n",
    "Implement `extract_rolling_features` to calculate rolling mean and standard deviation for the `heart_rate`."
   ]
  },
  {
   "cell_type": "code",
   "execution_count": 5,
   "id": "4e6e32ca",
   "metadata": {
    "execution": {
     "iopub.execute_input": "2025-06-08T04:04:24.724794Z",
     "iopub.status.busy": "2025-06-08T04:04:24.724669Z",
     "iopub.status.idle": "2025-06-08T04:04:24.727626Z",
     "shell.execute_reply": "2025-06-08T04:04:24.727375Z"
    }
   },
   "outputs": [],
   "source": [
    "def extract_rolling_features(df, window_size_seconds):\n",
    "    \"\"\"\n",
    "    Calculate rolling mean and standard deviation for heart rate.\n",
    "    \n",
    "    Args:\n",
    "        df: DataFrame with timestamp and heart_rate columns\n",
    "        window_size_seconds: Size of the rolling window in seconds\n",
    "        \n",
    "    Returns:\n",
    "        DataFrame with added hr_rolling_mean and hr_rolling_std columns\n",
    "    \"\"\"\n",
    "    # 1. Sort data by timestamp\n",
    "    df_sorted = df.sort_values('timestamp')\n",
    "    \n",
    "    # 2. Set timestamp as index (this allows time-based operations)\n",
    "    df_indexed = df_sorted.set_index('timestamp')\n",
    "    \n",
    "    # 3. Calculate rolling mean and standard deviation\n",
    "    #    - First, create a rolling window object based on time:\n",
    "    rolling_window = df_indexed['heart_rate'].rolling(window=f'{window_size_seconds}s')\n",
    "    #    - Then calculate statistics on this window:\n",
    "    hr_mean = rolling_window.mean()\n",
    "    hr_std = rolling_window.std()\n",
    "    \n",
    "    # 4. Add the new columns back to the dataframe\n",
    "    df_indexed['hr_rolling_mean'] = hr_mean\n",
    "    df_indexed['hr_rolling_std'] = hr_std\n",
    "    \n",
    "    # 5. Reset index to bring timestamp back as a column\n",
    "    df_result = df_indexed.reset_index()\n",
    "    \n",
    "    # 6. Handle any NaN values (rolling calculations create NaNs at the beginning)\n",
    "\n",
    "    df_result = df_result.fillna(method='bfill')  \n",
    "    \n",
    "    return df_result"
   ]
  },
  {
   "cell_type": "code",
   "execution_count": 6,
   "id": "9840edd8",
   "metadata": {
    "execution": {
     "iopub.execute_input": "2025-06-08T04:04:24.729000Z",
     "iopub.status.busy": "2025-06-08T04:04:24.728864Z",
     "iopub.status.idle": "2025-06-08T04:04:24.730504Z",
     "shell.execute_reply": "2025-06-08T04:04:24.730245Z"
    }
   },
   "outputs": [],
   "source": [
    "\n",
    "#test_rolling_df = extract_rolling_features(df, 1)\n",
    "#test_rolling_df"
   ]
  },
  {
   "cell_type": "markdown",
   "id": "fd8ab420",
   "metadata": {},
   "source": [
    "## 4. Data Preparation\n",
    "Implement `prepare_data_part2` using the newly engineered features."
   ]
  },
  {
   "cell_type": "code",
   "execution_count": 7,
   "id": "c4782d8d",
   "metadata": {
    "execution": {
     "iopub.execute_input": "2025-06-08T04:04:24.731863Z",
     "iopub.status.busy": "2025-06-08T04:04:24.731776Z",
     "iopub.status.idle": "2025-06-08T04:04:24.734275Z",
     "shell.execute_reply": "2025-06-08T04:04:24.734019Z"
    }
   },
   "outputs": [],
   "source": [
    "def prepare_data_part2(df_with_features, test_size=0.2, random_state=42):\n",
    "    \"\"\"\n",
    "    Prepare data for modeling with time-series features.\n",
    "    \n",
    "    Args:\n",
    "        df_with_features: DataFrame with original and rolling features\n",
    "        test_size: Proportion of data for testing\n",
    "        random_state: Random seed for reproducibility\n",
    "        \n",
    "    Returns:\n",
    "        X_train, X_test, y_train, y_test\n",
    "    \"\"\"\n",
    "    # 1. Select relevant features including the rolling features\n",
    "    feature_cols = ['age', 'systolic_bp', 'diastolic_bp', 'glucose_level', 'bmi', 'heart_rate', 'hr_rolling_mean', 'hr_rolling_std']\n",
    "\n",
    "    # 2. Handle missing values\n",
    "    df_clean = df_with_features.dropna(subset=feature_cols + ['disease_outcome'])\n",
    "\n",
    "    # 3. Select target variable (disease_outcome)\n",
    "    X = df_clean[feature_cols]\n",
    "    y = df_clean['disease_outcome']\n",
    "\n",
    "    # 4. Split data into training and testing sets\n",
    "    X_train, X_test, y_train, y_test = train_test_split(\n",
    "        X, y, test_size=test_size, random_state=random_state, shuffle=True\n",
    "    )\n",
    "    \n",
    "    return X_train, X_test, y_train, y_test"
   ]
  },
  {
   "cell_type": "code",
   "execution_count": 8,
   "id": "1e317663",
   "metadata": {
    "execution": {
     "iopub.execute_input": "2025-06-08T04:04:24.735534Z",
     "iopub.status.busy": "2025-06-08T04:04:24.735443Z",
     "iopub.status.idle": "2025-06-08T04:04:24.737098Z",
     "shell.execute_reply": "2025-06-08T04:04:24.736872Z"
    }
   },
   "outputs": [],
   "source": [
    "#X_train, X_test, y_train, y_test = prepare_data_part2(rolling_df)\n",
    "#X_train\n",
    "#X_test\n",
    "#y_train\n",
    "#y_test"
   ]
  },
  {
   "cell_type": "markdown",
   "id": "fb721463",
   "metadata": {},
   "source": [
    "## 5. Random Forest Model\n",
    "Implement `train_random_forest`."
   ]
  },
  {
   "cell_type": "code",
   "execution_count": 9,
   "id": "01e356d6",
   "metadata": {
    "execution": {
     "iopub.execute_input": "2025-06-08T04:04:24.738346Z",
     "iopub.status.busy": "2025-06-08T04:04:24.738251Z",
     "iopub.status.idle": "2025-06-08T04:04:24.740357Z",
     "shell.execute_reply": "2025-06-08T04:04:24.740116Z"
    }
   },
   "outputs": [],
   "source": [
    "def train_random_forest(X_train, y_train, n_estimators=100, max_depth=10, random_state=42):\n",
    "    \"\"\"\n",
    "    Train a Random Forest classifier.\n",
    "    \n",
    "    Args:\n",
    "        X_train: Training features\n",
    "        y_train: Training target\n",
    "        n_estimators: Number of trees in the forest\n",
    "        max_depth: Maximum depth of the trees\n",
    "        random_state: Random seed for reproducibility\n",
    "        \n",
    "    Returns:\n",
    "        Trained Random Forest model\n",
    "    \"\"\"\n",
    "    # Initialize and train a RandomForestClassifier\n",
    "    rf_model = RandomForestClassifier(n_estimators=n_estimators, max_depth=max_depth, random_state=random_state)\n",
    "    output = rf_model.fit(X_train, y_train)\n",
    "    \n",
    "    return output"
   ]
  },
  {
   "cell_type": "code",
   "execution_count": 10,
   "id": "be472990",
   "metadata": {
    "execution": {
     "iopub.execute_input": "2025-06-08T04:04:24.741531Z",
     "iopub.status.busy": "2025-06-08T04:04:24.741442Z",
     "iopub.status.idle": "2025-06-08T04:04:24.742999Z",
     "shell.execute_reply": "2025-06-08T04:04:24.742762Z"
    }
   },
   "outputs": [],
   "source": [
    "#test_rf = train_random_forest(X_train, y_train)\n",
    "#test_rf"
   ]
  },
  {
   "cell_type": "markdown",
   "id": "dad4d267",
   "metadata": {},
   "source": [
    "## 6. XGBoost Model\n",
    "Implement `train_xgboost`."
   ]
  },
  {
   "cell_type": "code",
   "execution_count": 11,
   "id": "313ff126",
   "metadata": {
    "execution": {
     "iopub.execute_input": "2025-06-08T04:04:24.744217Z",
     "iopub.status.busy": "2025-06-08T04:04:24.744134Z",
     "iopub.status.idle": "2025-06-08T04:04:24.746379Z",
     "shell.execute_reply": "2025-06-08T04:04:24.746118Z"
    }
   },
   "outputs": [],
   "source": [
    "def train_xgboost(X_train, y_train, n_estimators=100, learning_rate=0.1, max_depth=5, random_state=42):\n",
    "    \"\"\"\n",
    "    Train an XGBoost classifier.\n",
    "    \n",
    "    Args:\n",
    "        X_train: Training features\n",
    "        y_train: Training target\n",
    "        n_estimators: Number of boosting rounds\n",
    "        learning_rate: Boosting learning rate\n",
    "        max_depth: Maximum depth of a tree\n",
    "        random_state: Random seed for reproducibility\n",
    "        \n",
    "    Returns:\n",
    "        Trained XGBoost model\n",
    "    \"\"\"\n",
    "    # Initialize and train an XGBClassifier\n",
    "    xgb_model = xgb.XGBClassifier(n_estimators=n_estimators, learning_rate=learning_rate, max_depth=max_depth, random_state=random_state, eval_metric='logloss')\n",
    "    output = xgb_model.fit(X_train, y_train)\n",
    "    \n",
    "    return output  "
   ]
  },
  {
   "cell_type": "code",
   "execution_count": 12,
   "id": "ba8f3a8f",
   "metadata": {
    "execution": {
     "iopub.execute_input": "2025-06-08T04:04:24.747619Z",
     "iopub.status.busy": "2025-06-08T04:04:24.747531Z",
     "iopub.status.idle": "2025-06-08T04:04:24.749107Z",
     "shell.execute_reply": "2025-06-08T04:04:24.748862Z"
    }
   },
   "outputs": [],
   "source": [
    "#test_xgb = train_xgboost(X_train, y_train)\n",
    "#test_xgb"
   ]
  },
  {
   "cell_type": "markdown",
   "id": "34ad3742",
   "metadata": {},
   "source": [
    "## 7. Model Comparison\n",
    "Calculate and compare AUC scores for both models."
   ]
  },
  {
   "cell_type": "code",
   "execution_count": 13,
   "id": "699da4b6",
   "metadata": {
    "execution": {
     "iopub.execute_input": "2025-06-08T04:04:24.750338Z",
     "iopub.status.busy": "2025-06-08T04:04:24.750234Z",
     "iopub.status.idle": "2025-06-08T04:04:24.752299Z",
     "shell.execute_reply": "2025-06-08T04:04:24.752068Z"
    }
   },
   "outputs": [],
   "source": [
    "def model_comparison(rf_model, xgb_model, X_test, y_test):\n",
    "    \"\"\"\n",
    "    Calculate and compare AUC scores for RF and XGB models.\n",
    "    \n",
    "    Args:\n",
    "        rf_model: Random Forest model\n",
    "        xgb_model: XGBoost model\n",
    "        X_test: X test dataset\n",
    "        y_test: y test dataset\n",
    "        \n",
    "    Returns:\n",
    "        AUC scores for RF and XGB models\n",
    "    \"\"\"\n",
    "    # 1. Generate probability predictions for both models\n",
    "    rf_probs = rf_model.predict_proba(X_test)[:, 1]\n",
    "    xgb_probs = xgb_model.predict_proba(X_test)[:, 1]\n",
    "\n",
    "    # 2. Calculate AUC scores\n",
    "    rf_auc = roc_auc_score(y_test, rf_probs)\n",
    "    xgb_auc = roc_auc_score(y_test, xgb_probs)\n",
    "\n",
    "    # 3. Compare the performance\n",
    "    return rf_auc, xgb_auc"
   ]
  },
  {
   "cell_type": "code",
   "execution_count": 14,
   "id": "30808a6e",
   "metadata": {
    "execution": {
     "iopub.execute_input": "2025-06-08T04:04:24.753548Z",
     "iopub.status.busy": "2025-06-08T04:04:24.753440Z",
     "iopub.status.idle": "2025-06-08T04:04:24.755014Z",
     "shell.execute_reply": "2025-06-08T04:04:24.754782Z"
    }
   },
   "outputs": [],
   "source": [
    "#test_rf_auc, test_xgb_auc = model_comparison(test_rf, test_xgb, X_test, y_test)"
   ]
  },
  {
   "cell_type": "markdown",
   "id": "151d524e",
   "metadata": {},
   "source": [
    "## 8. Save Results\n",
    "Save the AUC scores to a text file."
   ]
  },
  {
   "cell_type": "code",
   "execution_count": 15,
   "id": "b8ec639a",
   "metadata": {
    "execution": {
     "iopub.execute_input": "2025-06-08T04:04:24.756292Z",
     "iopub.status.busy": "2025-06-08T04:04:24.756209Z",
     "iopub.status.idle": "2025-06-08T04:04:24.758354Z",
     "shell.execute_reply": "2025-06-08T04:04:24.758134Z"
    }
   },
   "outputs": [],
   "source": [
    "def save_auc_scores(rf_auc, xgb_auc):\n",
    "    \"\"\"\n",
    "    Save the AUC scores to a text file.\n",
    "    \n",
    "    Args:\n",
    "        rf_auc: Random Forest AUC\n",
    "        xgb_auc: XGBoost AUC\n",
    "        \n",
    "    Returns:\n",
    "        Text file of AUC scores\n",
    "    \"\"\"\n",
    "    # 1. Create 'results' directory if it doesn't exist\n",
    "    os.makedirs('results', exist_ok=True)\n",
    "\n",
    "    # 2. Format AUC scores as strings\n",
    "    # 3. Write scores to 'results/results_part2.txt'\n",
    "    filepath = 'results/results_part2.txt'\n",
    "    with open(filepath, 'w') as f:\n",
    "        f.write(f\"Random Forest AUC: {rf_auc:.4f}\\n\")\n",
    "        f.write(f\"XGBoost AUC: {xgb_auc:.4f}\\n\")"
   ]
  },
  {
   "cell_type": "code",
   "execution_count": 16,
   "id": "5ee6c621",
   "metadata": {
    "execution": {
     "iopub.execute_input": "2025-06-08T04:04:24.759497Z",
     "iopub.status.busy": "2025-06-08T04:04:24.759406Z",
     "iopub.status.idle": "2025-06-08T04:04:24.760898Z",
     "shell.execute_reply": "2025-06-08T04:04:24.760665Z"
    }
   },
   "outputs": [],
   "source": [
    "#save_auc_scores(test_rf_auc, test_xgb_auc)"
   ]
  },
  {
   "cell_type": "markdown",
   "id": "fe0c66fc",
   "metadata": {},
   "source": [
    "## 9. Main Execution\n",
    "Run the complete workflow."
   ]
  },
  {
   "cell_type": "code",
   "execution_count": 17,
   "id": "3c02f64c",
   "metadata": {
    "execution": {
     "iopub.execute_input": "2025-06-08T04:04:24.762051Z",
     "iopub.status.busy": "2025-06-08T04:04:24.761966Z",
     "iopub.status.idle": "2025-06-08T04:04:25.491466Z",
     "shell.execute_reply": "2025-06-08T04:04:25.491226Z"
    }
   },
   "outputs": [
    {
     "name": "stderr",
     "output_type": "stream",
     "text": [
      "/var/folders/qp/sfr1kq8d0vb22ptlgqtw64bc0000gn/T/ipykernel_46069/2259649278.py:34: FutureWarning: DataFrame.fillna with 'method' is deprecated and will raise in a future version. Use obj.ffill() or obj.bfill() instead.\n",
      "  df_result = df_result.fillna(method='bfill')\n"
     ]
    },
    {
     "name": "stdout",
     "output_type": "stream",
     "text": [
      "Random Forest AUC: 0.9758\n",
      "XGBoost AUC: 0.9956\n"
     ]
    }
   ],
   "source": [
    "# Main execution\n",
    "if __name__ == \"__main__\":\n",
    "    # 1. Load data\n",
    "    data_file = 'data/synthetic_health_data.csv'\n",
    "    df = load_data(data_file)\n",
    "    \n",
    "    # 2. Extract rolling features\n",
    "    window_size = 300  # 5 minutes in seconds\n",
    "    df_with_features = extract_rolling_features(df, window_size)\n",
    "    \n",
    "    # 3. Prepare data\n",
    "    X_train, X_test, y_train, y_test = prepare_data_part2(df_with_features)\n",
    "    \n",
    "    # 4. Train models\n",
    "    rf_model = train_random_forest(X_train, y_train)\n",
    "    xgb_model = train_xgboost(X_train, y_train)\n",
    "    \n",
    "    # 5. Calculate AUC scores\n",
    "    rf_probs = rf_model.predict_proba(X_test)[:, 1]\n",
    "    xgb_probs = xgb_model.predict_proba(X_test)[:, 1]\n",
    "    \n",
    "    rf_auc = roc_auc_score(y_test, rf_probs)\n",
    "    xgb_auc = roc_auc_score(y_test, xgb_probs)\n",
    "    \n",
    "    print(f\"Random Forest AUC: {rf_auc:.4f}\")\n",
    "    print(f\"XGBoost AUC: {xgb_auc:.4f}\")\n",
    "    \n",
    "    # 6. Save results\n",
    "    save_auc_scores(rf_auc, xgb_auc)"
   ]
  }
 ],
 "metadata": {
  "kernelspec": {
   "display_name": "base",
   "language": "python",
   "name": "python3"
  },
  "language_info": {
   "codemirror_mode": {
    "name": "ipython",
    "version": 3
   },
   "file_extension": ".py",
   "mimetype": "text/x-python",
   "name": "python",
   "nbconvert_exporter": "python",
   "pygments_lexer": "ipython3",
   "version": "3.13.2"
  }
 },
 "nbformat": 4,
 "nbformat_minor": 5
}
