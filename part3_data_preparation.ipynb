{
 "cells": [
  {
   "cell_type": "markdown",
   "id": "f013a4de",
   "metadata": {},
   "source": [
    "# Part 3: Practical Data Preparation\n",
    "Handle categorical features using One-Hot Encoding and address class imbalance using SMOTE."
   ]
  },
  {
   "cell_type": "code",
   "execution_count": 1,
   "id": "28793979",
   "metadata": {
    "execution": {
     "iopub.execute_input": "2025-06-08T04:05:33.020737Z",
     "iopub.status.busy": "2025-06-08T04:05:33.020621Z",
     "iopub.status.idle": "2025-06-08T04:05:33.675888Z",
     "shell.execute_reply": "2025-06-08T04:05:33.675448Z"
    }
   },
   "outputs": [
    {
     "name": "stdout",
     "output_type": "stream",
     "text": [
      "Requirement already satisfied: pandas<3.0,>=1.5 in /opt/homebrew/Cellar/jupyterlab/4.3.6/libexec/lib/python3.13/site-packages (from -r requirements.txt (line 2)) (2.3.0)\r\n",
      "Requirement already satisfied: numpy<3.0,>=1.20 in /opt/homebrew/Cellar/jupyterlab/4.3.6/libexec/lib/python3.13/site-packages (from -r requirements.txt (line 3)) (2.3.0)\r\n",
      "Requirement already satisfied: scikit-learn<2.0,>=1.0 in /opt/homebrew/Cellar/jupyterlab/4.3.6/libexec/lib/python3.13/site-packages (from -r requirements.txt (line 4)) (1.6.1)\r\n",
      "Requirement already satisfied: xgboost<3.0,>=1.5 in /opt/homebrew/Cellar/jupyterlab/4.3.6/libexec/lib/python3.13/site-packages (from -r requirements.txt (line 5)) (2.1.4)\r\n",
      "Requirement already satisfied: imbalanced-learn<1.0,>=0.9 in /opt/homebrew/Cellar/jupyterlab/4.3.6/libexec/lib/python3.13/site-packages (from -r requirements.txt (line 6)) (0.13.0)\r\n",
      "Requirement already satisfied: matplotlib<4.0,>=3.5 in /opt/homebrew/Cellar/jupyterlab/4.3.6/libexec/lib/python3.13/site-packages (from -r requirements.txt (line 7)) (3.10.3)\r\n",
      "Requirement already satisfied: seaborn<1.0,>=0.11 in /opt/homebrew/Cellar/jupyterlab/4.3.6/libexec/lib/python3.13/site-packages (from -r requirements.txt (line 8)) (0.13.2)\r\n",
      "Requirement already satisfied: ipykernel in /opt/homebrew/Cellar/jupyterlab/4.3.6/libexec/lib/python3.13/site-packages (from -r requirements.txt (line 9)) (6.29.5)\r\n",
      "Requirement already satisfied: python-dateutil>=2.8.2 in /opt/homebrew/Cellar/jupyterlab/4.3.6/libexec/lib/python3.13/site-packages (from pandas<3.0,>=1.5->-r requirements.txt (line 2)) (2.9.0.post0)\r\n",
      "Requirement already satisfied: pytz>=2020.1 in /opt/homebrew/Cellar/jupyterlab/4.3.6/libexec/lib/python3.13/site-packages (from pandas<3.0,>=1.5->-r requirements.txt (line 2)) (2025.2)\r\n",
      "Requirement already satisfied: tzdata>=2022.7 in /opt/homebrew/Cellar/jupyterlab/4.3.6/libexec/lib/python3.13/site-packages (from pandas<3.0,>=1.5->-r requirements.txt (line 2)) (2025.2)\r\n"
     ]
    },
    {
     "name": "stdout",
     "output_type": "stream",
     "text": [
      "Requirement already satisfied: scipy>=1.6.0 in /opt/homebrew/Cellar/jupyterlab/4.3.6/libexec/lib/python3.13/site-packages (from scikit-learn<2.0,>=1.0->-r requirements.txt (line 4)) (1.15.3)\r\n",
      "Requirement already satisfied: joblib>=1.2.0 in /opt/homebrew/Cellar/jupyterlab/4.3.6/libexec/lib/python3.13/site-packages (from scikit-learn<2.0,>=1.0->-r requirements.txt (line 4)) (1.5.1)\r\n",
      "Requirement already satisfied: threadpoolctl>=3.1.0 in /opt/homebrew/Cellar/jupyterlab/4.3.6/libexec/lib/python3.13/site-packages (from scikit-learn<2.0,>=1.0->-r requirements.txt (line 4)) (3.6.0)\r\n",
      "Requirement already satisfied: sklearn-compat<1,>=0.1 in /opt/homebrew/Cellar/jupyterlab/4.3.6/libexec/lib/python3.13/site-packages (from imbalanced-learn<1.0,>=0.9->-r requirements.txt (line 6)) (0.1.3)\r\n",
      "Requirement already satisfied: contourpy>=1.0.1 in /opt/homebrew/Cellar/jupyterlab/4.3.6/libexec/lib/python3.13/site-packages (from matplotlib<4.0,>=3.5->-r requirements.txt (line 7)) (1.3.2)\r\n",
      "Requirement already satisfied: cycler>=0.10 in /opt/homebrew/Cellar/jupyterlab/4.3.6/libexec/lib/python3.13/site-packages (from matplotlib<4.0,>=3.5->-r requirements.txt (line 7)) (0.12.1)\r\n",
      "Requirement already satisfied: fonttools>=4.22.0 in /opt/homebrew/Cellar/jupyterlab/4.3.6/libexec/lib/python3.13/site-packages (from matplotlib<4.0,>=3.5->-r requirements.txt (line 7)) (4.58.2)\r\n",
      "Requirement already satisfied: kiwisolver>=1.3.1 in /opt/homebrew/Cellar/jupyterlab/4.3.6/libexec/lib/python3.13/site-packages (from matplotlib<4.0,>=3.5->-r requirements.txt (line 7)) (1.4.8)\r\n",
      "Requirement already satisfied: packaging>=20.0 in /opt/homebrew/Cellar/jupyterlab/4.3.6/libexec/lib/python3.13/site-packages (from matplotlib<4.0,>=3.5->-r requirements.txt (line 7)) (24.2)\r\n",
      "Requirement already satisfied: pillow>=8 in /opt/homebrew/Cellar/jupyterlab/4.3.6/libexec/lib/python3.13/site-packages (from matplotlib<4.0,>=3.5->-r requirements.txt (line 7)) (11.2.1)\r\n",
      "Requirement already satisfied: pyparsing>=2.3.1 in /opt/homebrew/Cellar/jupyterlab/4.3.6/libexec/lib/python3.13/site-packages (from matplotlib<4.0,>=3.5->-r requirements.txt (line 7)) (3.2.3)\r\n",
      "Requirement already satisfied: appnope in /opt/homebrew/Cellar/jupyterlab/4.3.6/libexec/lib/python3.13/site-packages (from ipykernel->-r requirements.txt (line 9)) (0.1.4)\r\n",
      "Requirement already satisfied: comm>=0.1.1 in /opt/homebrew/Cellar/jupyterlab/4.3.6/libexec/lib/python3.13/site-packages (from ipykernel->-r requirements.txt (line 9)) (0.2.2)\r\n",
      "Requirement already satisfied: debugpy>=1.6.5 in /opt/homebrew/Cellar/jupyterlab/4.3.6/libexec/lib/python3.13/site-packages (from ipykernel->-r requirements.txt (line 9)) (1.8.13)\r\n",
      "Requirement already satisfied: ipython>=7.23.1 in /opt/homebrew/Cellar/jupyterlab/4.3.6/libexec/lib/python3.13/site-packages (from ipykernel->-r requirements.txt (line 9)) (9.0.2)\r\n",
      "Requirement already satisfied: jupyter-client>=6.1.12 in /opt/homebrew/Cellar/jupyterlab/4.3.6/libexec/lib/python3.13/site-packages (from ipykernel->-r requirements.txt (line 9)) (8.6.3)\r\n",
      "Requirement already satisfied: jupyter-core!=5.0.*,>=4.12 in /opt/homebrew/Cellar/jupyterlab/4.3.6/libexec/lib/python3.13/site-packages (from ipykernel->-r requirements.txt (line 9)) (5.7.2)\r\n",
      "Requirement already satisfied: matplotlib-inline>=0.1 in /opt/homebrew/Cellar/jupyterlab/4.3.6/libexec/lib/python3.13/site-packages (from ipykernel->-r requirements.txt (line 9)) (0.1.7)\r\n",
      "Requirement already satisfied: nest-asyncio in /opt/homebrew/Cellar/jupyterlab/4.3.6/libexec/lib/python3.13/site-packages (from ipykernel->-r requirements.txt (line 9)) (1.6.0)\r\n",
      "Requirement already satisfied: psutil in /opt/homebrew/Cellar/jupyterlab/4.3.6/libexec/lib/python3.13/site-packages (from ipykernel->-r requirements.txt (line 9)) (7.0.0)\r\n",
      "Requirement already satisfied: pyzmq>=24 in /opt/homebrew/Cellar/jupyterlab/4.3.6/libexec/lib/python3.13/site-packages (from ipykernel->-r requirements.txt (line 9)) (26.3.0)\r\n",
      "Requirement already satisfied: tornado>=6.1 in /opt/homebrew/Cellar/jupyterlab/4.3.6/libexec/lib/python3.13/site-packages (from ipykernel->-r requirements.txt (line 9)) (6.4.2)\r\n",
      "Requirement already satisfied: traitlets>=5.4.0 in /opt/homebrew/Cellar/jupyterlab/4.3.6/libexec/lib/python3.13/site-packages (from ipykernel->-r requirements.txt (line 9)) (5.14.3)\r\n",
      "Requirement already satisfied: decorator in /opt/homebrew/Cellar/jupyterlab/4.3.6/libexec/lib/python3.13/site-packages (from ipython>=7.23.1->ipykernel->-r requirements.txt (line 9)) (5.2.1)\r\n",
      "Requirement already satisfied: ipython-pygments-lexers in /opt/homebrew/Cellar/jupyterlab/4.3.6/libexec/lib/python3.13/site-packages (from ipython>=7.23.1->ipykernel->-r requirements.txt (line 9)) (1.1.1)\r\n",
      "Requirement already satisfied: jedi>=0.16 in /opt/homebrew/Cellar/jupyterlab/4.3.6/libexec/lib/python3.13/site-packages (from ipython>=7.23.1->ipykernel->-r requirements.txt (line 9)) (0.19.2)\r\n",
      "Requirement already satisfied: pexpect>4.3 in /opt/homebrew/Cellar/jupyterlab/4.3.6/libexec/lib/python3.13/site-packages (from ipython>=7.23.1->ipykernel->-r requirements.txt (line 9)) (4.9.0)\r\n",
      "Requirement already satisfied: prompt_toolkit<3.1.0,>=3.0.41 in /opt/homebrew/Cellar/jupyterlab/4.3.6/libexec/lib/python3.13/site-packages (from ipython>=7.23.1->ipykernel->-r requirements.txt (line 9)) (3.0.50)\r\n",
      "Requirement already satisfied: pygments>=2.4.0 in /opt/homebrew/Cellar/jupyterlab/4.3.6/libexec/lib/python3.13/site-packages (from ipython>=7.23.1->ipykernel->-r requirements.txt (line 9)) (2.19.1)\r\n",
      "Requirement already satisfied: stack_data in /opt/homebrew/Cellar/jupyterlab/4.3.6/libexec/lib/python3.13/site-packages (from ipython>=7.23.1->ipykernel->-r requirements.txt (line 9)) (0.6.3)\r\n",
      "Requirement already satisfied: platformdirs>=2.5 in /opt/homebrew/Cellar/jupyterlab/4.3.6/libexec/lib/python3.13/site-packages (from jupyter-core!=5.0.*,>=4.12->ipykernel->-r requirements.txt (line 9)) (4.3.6)\r\n",
      "Requirement already satisfied: six>=1.5 in /opt/homebrew/Cellar/jupyterlab/4.3.6/libexec/lib/python3.13/site-packages (from python-dateutil>=2.8.2->pandas<3.0,>=1.5->-r requirements.txt (line 2)) (1.17.0)\r\n",
      "Requirement already satisfied: parso<0.9.0,>=0.8.4 in /opt/homebrew/Cellar/jupyterlab/4.3.6/libexec/lib/python3.13/site-packages (from jedi>=0.16->ipython>=7.23.1->ipykernel->-r requirements.txt (line 9)) (0.8.4)\r\n",
      "Requirement already satisfied: ptyprocess>=0.5 in /opt/homebrew/Cellar/jupyterlab/4.3.6/libexec/lib/python3.13/site-packages (from pexpect>4.3->ipython>=7.23.1->ipykernel->-r requirements.txt (line 9)) (0.7.0)\r\n",
      "Requirement already satisfied: wcwidth in /opt/homebrew/Cellar/jupyterlab/4.3.6/libexec/lib/python3.13/site-packages (from prompt_toolkit<3.1.0,>=3.0.41->ipython>=7.23.1->ipykernel->-r requirements.txt (line 9)) (0.2.13)\r\n",
      "Requirement already satisfied: executing>=1.2.0 in /opt/homebrew/Cellar/jupyterlab/4.3.6/libexec/lib/python3.13/site-packages (from stack_data->ipython>=7.23.1->ipykernel->-r requirements.txt (line 9)) (2.2.0)\r\n",
      "Requirement already satisfied: asttokens>=2.1.0 in /opt/homebrew/Cellar/jupyterlab/4.3.6/libexec/lib/python3.13/site-packages (from stack_data->ipython>=7.23.1->ipykernel->-r requirements.txt (line 9)) (3.0.0)\r\n",
      "Requirement already satisfied: pure_eval in /opt/homebrew/Cellar/jupyterlab/4.3.6/libexec/lib/python3.13/site-packages (from stack_data->ipython>=7.23.1->ipykernel->-r requirements.txt (line 9)) (0.2.3)\r\n"
     ]
    },
    {
     "name": "stdout",
     "output_type": "stream",
     "text": [
      "\r\n",
      "\u001b[1m[\u001b[0m\u001b[34;49mnotice\u001b[0m\u001b[1;39;49m]\u001b[0m\u001b[39;49m A new release of pip is available: \u001b[0m\u001b[31;49m25.0\u001b[0m\u001b[39;49m -> \u001b[0m\u001b[32;49m25.1.1\u001b[0m\r\n",
      "\u001b[1m[\u001b[0m\u001b[34;49mnotice\u001b[0m\u001b[1;39;49m]\u001b[0m\u001b[39;49m To update, run: \u001b[0m\u001b[32;49m/opt/homebrew/Cellar/jupyterlab/4.3.6/libexec/bin/python -m pip install --upgrade pip\u001b[0m\r\n"
     ]
    },
    {
     "name": "stdout",
     "output_type": "stream",
     "text": [
      "Note: you may need to restart the kernel to use updated packages.\n"
     ]
    }
   ],
   "source": [
    "%pip install -r requirements.txt"
   ]
  },
  {
   "cell_type": "markdown",
   "id": "66942ea1",
   "metadata": {},
   "source": [
    "## 1. Setup\n",
    "Import necessary libraries."
   ]
  },
  {
   "cell_type": "code",
   "execution_count": 2,
   "id": "96d28052",
   "metadata": {
    "execution": {
     "iopub.execute_input": "2025-06-08T04:05:33.677840Z",
     "iopub.status.busy": "2025-06-08T04:05:33.677671Z",
     "iopub.status.idle": "2025-06-08T04:05:36.853388Z",
     "shell.execute_reply": "2025-06-08T04:05:36.853009Z"
    }
   },
   "outputs": [],
   "source": [
    "import pandas as pd\n",
    "import numpy as np\n",
    "import os\n",
    "from sklearn.model_selection import train_test_split\n",
    "from sklearn.preprocessing import OneHotEncoder\n",
    "from sklearn.linear_model import LogisticRegression\n",
    "from sklearn.metrics import accuracy_score, precision_score, recall_score, f1_score, roc_auc_score, confusion_matrix\n",
    "from sklearn.impute import SimpleImputer\n",
    "from imblearn.over_sampling import SMOTE"
   ]
  },
  {
   "cell_type": "markdown",
   "id": "2dd22950",
   "metadata": {},
   "source": [
    "## 2. Data Loading\n",
    "Load the dataset."
   ]
  },
  {
   "cell_type": "code",
   "execution_count": 3,
   "id": "1ce5bed4",
   "metadata": {
    "execution": {
     "iopub.execute_input": "2025-06-08T04:05:36.855516Z",
     "iopub.status.busy": "2025-06-08T04:05:36.855291Z",
     "iopub.status.idle": "2025-06-08T04:05:36.857773Z",
     "shell.execute_reply": "2025-06-08T04:05:36.857439Z"
    }
   },
   "outputs": [],
   "source": [
    "def load_data(file_path):\n",
    "    \"\"\"\n",
    "    Load the synthetic health data from a CSV file.\n",
    "    \n",
    "    Args:\n",
    "        file_path: Path to the CSV file\n",
    "        \n",
    "    Returns:\n",
    "        DataFrame containing the data\n",
    "    \"\"\"\n",
    "    # Load the CSV file using pandas\n",
    "    df = pd.read_csv(file_path)\n",
    "    \n",
    "    return df"
   ]
  },
  {
   "cell_type": "code",
   "execution_count": 4,
   "id": "94b39269",
   "metadata": {
    "execution": {
     "iopub.execute_input": "2025-06-08T04:05:36.859448Z",
     "iopub.status.busy": "2025-06-08T04:05:36.859302Z",
     "iopub.status.idle": "2025-06-08T04:05:36.861097Z",
     "shell.execute_reply": "2025-06-08T04:05:36.860801Z"
    }
   },
   "outputs": [],
   "source": [
    "#test_df = load_data('data/synthetic_health_data.csv')\n",
    "#test_df"
   ]
  },
  {
   "cell_type": "markdown",
   "id": "9aae2f94",
   "metadata": {},
   "source": [
    "## 3. Categorical Feature Encoding\n",
    "Implement `encode_categorical_features` using `OneHotEncoder`."
   ]
  },
  {
   "cell_type": "code",
   "execution_count": 5,
   "id": "1a6f8046",
   "metadata": {
    "execution": {
     "iopub.execute_input": "2025-06-08T04:05:36.862659Z",
     "iopub.status.busy": "2025-06-08T04:05:36.862519Z",
     "iopub.status.idle": "2025-06-08T04:05:36.865595Z",
     "shell.execute_reply": "2025-06-08T04:05:36.865304Z"
    }
   },
   "outputs": [],
   "source": [
    "def encode_categorical_features(df, column_to_encode='smoker_status'):\n",
    "    \"\"\"\n",
    "    Encode a categorical column using OneHotEncoder.\n",
    "    \n",
    "    Args:\n",
    "        df: Input DataFrame\n",
    "        column_to_encode: Name of the categorical column to encode\n",
    "        \n",
    "    Returns:\n",
    "        DataFrame with the categorical column replaced by one-hot encoded columns\n",
    "    \"\"\"\n",
    "    # 1. Extract the categorical column\n",
    "    categorical_col = df[[column_to_encode]]\n",
    "\n",
    "    # 2. Apply OneHotEncoder\n",
    "    encoder = OneHotEncoder(sparse_output = False, drop='first', handle_unknown='ignore')\n",
    "    encoded_array = encoder.fit_transform(categorical_col)\n",
    "\n",
    "    # 3. Create new column names\n",
    "    new_cols = encoder.get_feature_names_out([column_to_encode])\n",
    "    encoded_df = pd.DataFrame(encoded_array, columns=encoder.get_feature_names_out())\n",
    "\n",
    "    # 4. Replace the original categorical column with the encoded columns\n",
    "    df_encoded = df.drop(columns=[column_to_encode])\n",
    "    df_encoded = pd.concat([df_encoded, encoded_df], axis=1)\n",
    "    \n",
    "    return df_encoded"
   ]
  },
  {
   "cell_type": "code",
   "execution_count": 6,
   "id": "1c349021",
   "metadata": {
    "execution": {
     "iopub.execute_input": "2025-06-08T04:05:36.867042Z",
     "iopub.status.busy": "2025-06-08T04:05:36.866936Z",
     "iopub.status.idle": "2025-06-08T04:05:36.868613Z",
     "shell.execute_reply": "2025-06-08T04:05:36.868371Z"
    }
   },
   "outputs": [],
   "source": [
    "#test_encode = encode_categorical_features(test_df)\n",
    "#test_encode"
   ]
  },
  {
   "cell_type": "markdown",
   "id": "1563a4d2",
   "metadata": {},
   "source": [
    "## 4. Data Preparation\n",
    "Implement `prepare_data_part3` to handle the train/test split correctly."
   ]
  },
  {
   "cell_type": "code",
   "execution_count": 7,
   "id": "ae3c9cec",
   "metadata": {
    "execution": {
     "iopub.execute_input": "2025-06-08T04:05:36.870011Z",
     "iopub.status.busy": "2025-06-08T04:05:36.869880Z",
     "iopub.status.idle": "2025-06-08T04:05:36.872612Z",
     "shell.execute_reply": "2025-06-08T04:05:36.872336Z"
    }
   },
   "outputs": [],
   "source": [
    "def prepare_data_part3(df, test_size=0.2, random_state=42):\n",
    "    \"\"\"\n",
    "    Prepare data with categorical encoding.\n",
    "    \n",
    "    Args:\n",
    "        df: Input DataFrame\n",
    "        test_size: Proportion of data for testing\n",
    "        random_state: Random seed for reproducibility\n",
    "        \n",
    "    Returns:\n",
    "        X_train, X_test, y_train, y_test\n",
    "    \"\"\"\n",
    "    # 1. Encode categorical features using the encode_categorical_features function\n",
    "    df = encode_categorical_features(df)\n",
    "\n",
    "    # 2. Select relevant features (including the one-hot encoded ones) and the target\n",
    "    features = [col for col in df.columns if col not in ['disease_outcome', 'timestamp']]\n",
    "    X = df[features]\n",
    "    y = df['disease_outcome']\n",
    "\n",
    "    # 3. Handle missing values\n",
    "    imputer = SimpleImputer(strategy='mean') \n",
    "    imputed_df = pd.DataFrame(imputer.fit_transform(X), columns=X.columns)\n",
    "\n",
    "    # 4. Split data into training and testing sets\n",
    "    X_train, X_test, y_train, y_test = train_test_split(\n",
    "        imputed_df, y, test_size=test_size, random_state=random_state\n",
    "    )\n",
    "    \n",
    "    return X_train, X_test, y_train, y_test"
   ]
  },
  {
   "cell_type": "code",
   "execution_count": 8,
   "id": "80bc8a85",
   "metadata": {
    "execution": {
     "iopub.execute_input": "2025-06-08T04:05:36.873982Z",
     "iopub.status.busy": "2025-06-08T04:05:36.873867Z",
     "iopub.status.idle": "2025-06-08T04:05:36.875711Z",
     "shell.execute_reply": "2025-06-08T04:05:36.875418Z"
    }
   },
   "outputs": [],
   "source": [
    "#test_Xtrain, test_Xtest, test_ytrain, test_ytest = prepare_data_part3(test_df)\n",
    "#test_ytest"
   ]
  },
  {
   "cell_type": "markdown",
   "id": "e16be4de",
   "metadata": {},
   "source": [
    "## 5. Handling Imbalanced Data\n",
    "Implement `apply_smote` to oversample the minority class."
   ]
  },
  {
   "cell_type": "code",
   "execution_count": 9,
   "id": "b3024c33",
   "metadata": {
    "execution": {
     "iopub.execute_input": "2025-06-08T04:05:36.877139Z",
     "iopub.status.busy": "2025-06-08T04:05:36.877002Z",
     "iopub.status.idle": "2025-06-08T04:05:36.879115Z",
     "shell.execute_reply": "2025-06-08T04:05:36.878849Z"
    }
   },
   "outputs": [],
   "source": [
    "def apply_smote(X_train, y_train, random_state=42):\n",
    "    \"\"\"\n",
    "    Apply SMOTE to oversample the minority class.\n",
    "    \n",
    "    Args:\n",
    "        X_train: Training features\n",
    "        y_train: Training target\n",
    "        random_state: Random seed for reproducibility\n",
    "        \n",
    "    Returns:\n",
    "        Resampled X_train and y_train with balanced classes\n",
    "    \"\"\"\n",
    "    # Apply SMOTE to balance the classes\n",
    "    smote = SMOTE(random_state=random_state)\n",
    "    X_resample, y_resample = smote.fit_resample(X_train, y_train)\n",
    "    \n",
    "    return X_resample, y_resample"
   ]
  },
  {
   "cell_type": "code",
   "execution_count": 10,
   "id": "ec8ed2bc",
   "metadata": {
    "execution": {
     "iopub.execute_input": "2025-06-08T04:05:36.880373Z",
     "iopub.status.busy": "2025-06-08T04:05:36.880264Z",
     "iopub.status.idle": "2025-06-08T04:05:36.881792Z",
     "shell.execute_reply": "2025-06-08T04:05:36.881547Z"
    }
   },
   "outputs": [],
   "source": [
    "#test_Xresample, test_yresample = apply_smote(test_Xtrain, test_ytrain)\n",
    "#test_yresample"
   ]
  },
  {
   "cell_type": "markdown",
   "id": "84178d69",
   "metadata": {},
   "source": [
    "## 6. Model Training and Evaluation\n",
    "Train a model on the SMOTE-resampled data and evaluate it."
   ]
  },
  {
   "cell_type": "code",
   "execution_count": 11,
   "id": "8b3b7a0b",
   "metadata": {
    "execution": {
     "iopub.execute_input": "2025-06-08T04:05:36.883050Z",
     "iopub.status.busy": "2025-06-08T04:05:36.882964Z",
     "iopub.status.idle": "2025-06-08T04:05:36.885682Z",
     "shell.execute_reply": "2025-06-08T04:05:36.885422Z"
    }
   },
   "outputs": [],
   "source": [
    "def train_logistic_regression(X_train, y_train):\n",
    "    \"\"\"\n",
    "    Train a logistic regression model.\n",
    "    \n",
    "    Args:\n",
    "        X_train: Training features\n",
    "        y_train: Training target\n",
    "        \n",
    "    Returns:\n",
    "        Trained logistic regression model\n",
    "    \"\"\"\n",
    "    # Initialize and train a LogisticRegression model\n",
    "    model = LogisticRegression(max_iter=1000).fit(X_train, y_train)\n",
    "    \n",
    "    return model\n",
    "\n",
    "def calculate_evaluation_metrics(model, X_test, y_test):\n",
    "    \"\"\"\n",
    "    Calculate classification evaluation metrics.\n",
    "    \n",
    "    Args:\n",
    "        model: Trained model\n",
    "        X_test: Test features\n",
    "        y_test: Test target\n",
    "        \n",
    "    Returns:\n",
    "        Dictionary containing accuracy, precision, recall, f1, auc, and confusion_matrix\n",
    "    \"\"\"\n",
    "    # 1. Generate predictions\n",
    "    y_pred = model.predict(X_test)\n",
    "\n",
    "    # 2. Calculate metrics: accuracy, precision, recall, f1, auc\n",
    "    accuracy = accuracy_score(y_test, y_pred)\n",
    "    precision = precision_score(y_test, y_pred)\n",
    "    recall = recall_score(y_test, y_pred)\n",
    "    f1 = f1_score(y_test, y_pred)\n",
    "    auc = roc_auc_score(y_test, y_pred)\n",
    "\n",
    "    # 3. Create confusion matrix\n",
    "    conf_matrix = confusion_matrix(y_test, y_pred)\n",
    "\n",
    "    # 4. Return metrics in a dictionary\n",
    "    return {\n",
    "        'accuracy': accuracy,\n",
    "        'precision': precision,\n",
    "        'recall': recall,\n",
    "        'f1_score': f1,\n",
    "        'auc': auc,\n",
    "        'confusion_matrix': conf_matrix\n",
    "    }"
   ]
  },
  {
   "cell_type": "code",
   "execution_count": 12,
   "id": "44dbf41e",
   "metadata": {
    "execution": {
     "iopub.execute_input": "2025-06-08T04:05:36.886896Z",
     "iopub.status.busy": "2025-06-08T04:05:36.886801Z",
     "iopub.status.idle": "2025-06-08T04:05:36.888325Z",
     "shell.execute_reply": "2025-06-08T04:05:36.888105Z"
    }
   },
   "outputs": [],
   "source": [
    "#test_model = train_logistic_regression(test_Xtrain, test_ytrain)\n",
    "#test_model\n",
    "\n",
    "#test_metrics = calculate_evaluation_metrics(test_model, test_Xtest, test_ytest)"
   ]
  },
  {
   "cell_type": "markdown",
   "id": "2d0f25bf",
   "metadata": {},
   "source": [
    "## 7. Save Results\n",
    "Save the evaluation metrics to a text file."
   ]
  },
  {
   "cell_type": "code",
   "execution_count": 13,
   "id": "24fc8e0f",
   "metadata": {
    "execution": {
     "iopub.execute_input": "2025-06-08T04:05:36.889553Z",
     "iopub.status.busy": "2025-06-08T04:05:36.889472Z",
     "iopub.status.idle": "2025-06-08T04:05:36.891654Z",
     "shell.execute_reply": "2025-06-08T04:05:36.891425Z"
    }
   },
   "outputs": [],
   "source": [
    "def save_eval_metrics(metrics):\n",
    "    \"\"\"\n",
    "    Save the evaluation metric to a text file.\n",
    "    \n",
    "    Args:\n",
    "        metrics: Evaluation metrics dictionary\n",
    "        xgb_auc: XGBoost AUC\n",
    "        \n",
    "    Returns:\n",
    "        Text file of evaluation metrics\n",
    "    \"\"\"\n",
    "    # 1. Create 'results' directory if it doesn't exist\n",
    "    os.makedirs('results', exist_ok=True)\n",
    "\n",
    "    # 2. Format metrics as strings\n",
    "    # 3. Write metrics to 'results/results_part3.txt'\n",
    "    filepath = 'results/results_part3.txt'\n",
    "    with open(filepath, 'w') as file:\n",
    "        for name, value in metrics.items():\n",
    "            file.write(f\"{name}: {value} \\n\")"
   ]
  },
  {
   "cell_type": "code",
   "execution_count": 14,
   "id": "b7dd77de",
   "metadata": {
    "execution": {
     "iopub.execute_input": "2025-06-08T04:05:36.892740Z",
     "iopub.status.busy": "2025-06-08T04:05:36.892667Z",
     "iopub.status.idle": "2025-06-08T04:05:36.894207Z",
     "shell.execute_reply": "2025-06-08T04:05:36.893968Z"
    }
   },
   "outputs": [],
   "source": [
    "#save_eval_metrics(test_metrics)"
   ]
  },
  {
   "cell_type": "markdown",
   "id": "a89fe4cb",
   "metadata": {},
   "source": [
    "## 8. Compare Results\n",
    "Implement a function to compare model performance between balanced and imbalanced data."
   ]
  },
  {
   "cell_type": "code",
   "execution_count": 15,
   "id": "23131f00",
   "metadata": {
    "execution": {
     "iopub.execute_input": "2025-06-08T04:05:36.895344Z",
     "iopub.status.busy": "2025-06-08T04:05:36.895261Z",
     "iopub.status.idle": "2025-06-08T04:05:36.897580Z",
     "shell.execute_reply": "2025-06-08T04:05:36.897351Z"
    }
   },
   "outputs": [],
   "source": [
    "def compare_models(part1_metrics, part3_metrics):\n",
    "    \"\"\"\n",
    "    Calculate percentage improvement between models trained on imbalanced vs. balanced data.\n",
    "    \n",
    "    Args:\n",
    "        part1_metrics: Dictionary containing evaluation metrics from Part 1 (imbalanced)\n",
    "        part3_metrics: Dictionary containing evaluation metrics from Part 3 (balanced)\n",
    "        \n",
    "    Returns:\n",
    "        Dictionary with metric names as keys and improvement percentages as values\n",
    "    \"\"\"\n",
    "    # 1. Calculate percentage improvement for each metric\n",
    "    percentages = {}\n",
    "\n",
    "    # 2. Handle metrics where higher is better (most metrics) and where lower is better\n",
    "    for metric in ['accuracy', 'precision', 'recall', 'f1', 'auc']:\n",
    "        imbalanced = part1_metrics.get(metric, 0)\n",
    "        balanced = part3_metrics.get(metric, 0)\n",
    "        \n",
    "        if imbalanced > 0:\n",
    "            percentages[metric] = ((balanced - imbalanced) / imbalanced) * 100\n",
    "        else:\n",
    "            percentages[metric] = float('inf') if balanced > 0 else 0.0\n",
    "\n",
    "    # 3. Return a dictionary with metric names and improvement percentages\n",
    "    return percentages"
   ]
  },
  {
   "cell_type": "markdown",
   "id": "bee34a9a",
   "metadata": {},
   "source": [
    "## 9. Main Execution\n",
    "Run the complete workflow.\n"
   ]
  },
  {
   "cell_type": "code",
   "execution_count": 16,
   "id": "1f7489ed",
   "metadata": {
    "execution": {
     "iopub.execute_input": "2025-06-08T04:05:36.898797Z",
     "iopub.status.busy": "2025-06-08T04:05:36.898712Z",
     "iopub.status.idle": "2025-06-08T04:05:36.901100Z",
     "shell.execute_reply": "2025-06-08T04:05:36.900835Z"
    }
   },
   "outputs": [],
   "source": [
    "def parse_metrics_from_txt(filename):\n",
    "    \"\"\"\n",
    "    Get metrics from text file (implemented this function instead because the main execution tries to open it as JSON)\n",
    "    \n",
    "    Args:\n",
    "        filename: File path\n",
    "        \n",
    "    Returns:\n",
    "        Parsed metrics\n",
    "    \"\"\"\n",
    "    metrics = {}\n",
    "    with open(filename, 'r') as f:\n",
    "        for line in f:\n",
    "            line = line.strip()  \n",
    "            if ':' in line and line:  \n",
    "                key, value = line.split(':', 1)\n",
    "                key = key.strip()\n",
    "                value = value.strip()\n",
    "                \n",
    "                if value and value != '':\n",
    "                    try:\n",
    "                        metrics[key] = float(value)\n",
    "                    except ValueError:\n",
    "                        print(f\"Skipping non-numeric value for '{key}': '{value}'\")\n",
    "                        continue\n",
    "    return metrics"
   ]
  },
  {
   "cell_type": "code",
   "execution_count": 17,
   "id": "a25441cb",
   "metadata": {
    "execution": {
     "iopub.execute_input": "2025-06-08T04:05:36.902240Z",
     "iopub.status.busy": "2025-06-08T04:05:36.902158Z",
     "iopub.status.idle": "2025-06-08T04:05:37.020493Z",
     "shell.execute_reply": "2025-06-08T04:05:37.020209Z"
    }
   },
   "outputs": [
    {
     "name": "stdout",
     "output_type": "stream",
     "text": [
      "accuracy: 0.8547\n",
      "precision: 0.3885\n",
      "recall: 0.8531\n",
      "f1_score: 0.5339\n",
      "auc: 0.8540\n",
      "\n",
      "Model Comparison (improvement percentages):\n",
      "accuracy: -6.77%\n",
      "precision: -41.26%\n",
      "recall: 183.72%\n",
      "f1: -100.00%\n",
      "auc: -5.99%\n"
     ]
    }
   ],
   "source": [
    "# Main execution\n",
    "if __name__ == \"__main__\":\n",
    "    # 1. Load data\n",
    "    data_file = 'data/synthetic_health_data.csv'\n",
    "    df = load_data(data_file)\n",
    "    \n",
    "    # 2. Prepare data with categorical encoding\n",
    "    X_train, X_test, y_train, y_test = prepare_data_part3(df)\n",
    "    \n",
    "    # 3. Apply SMOTE to balance the training data\n",
    "    X_train_resampled, y_train_resampled = apply_smote(X_train, y_train)\n",
    "    \n",
    "    # 4. Train model on resampled data\n",
    "    model = train_logistic_regression(X_train_resampled, y_train_resampled)\n",
    "    \n",
    "    # 5. Evaluate on original test set\n",
    "    metrics = calculate_evaluation_metrics(model, X_test, y_test)\n",
    "    \n",
    "    # 6. Print metrics\n",
    "    for metric, value in metrics.items():\n",
    "        if metric != 'confusion_matrix':\n",
    "            print(f\"{metric}: {value:.4f}\")\n",
    "    \n",
    "    # 7. Save results\n",
    "    save_eval_metrics(metrics)\n",
    "    \n",
    "    # 8. Load Part 1 results for comparison\n",
    "    try:\n",
    "        part1_metrics = parse_metrics_from_txt('results/results_part1.txt')\n",
    "        \n",
    "        # 9. Compare models\n",
    "        comparison = compare_models(part1_metrics, metrics)\n",
    "        print(\"\\nModel Comparison (improvement percentages):\")\n",
    "        for metric, improvement in comparison.items():\n",
    "            print(f\"{metric}: {improvement:.2f}%\")\n",
    "    except FileNotFoundError:\n",
    "        print(\"Part 1 results not found. Run part1_introduction.ipynb first.\")"
   ]
  },
  {
   "cell_type": "code",
   "execution_count": null,
   "id": "6ceb7924",
   "metadata": {},
   "outputs": [],
   "source": []
  }
 ],
 "metadata": {
  "kernelspec": {
   "display_name": "base",
   "language": "python",
   "name": "python3"
  },
  "language_info": {
   "codemirror_mode": {
    "name": "ipython",
    "version": 3
   },
   "file_extension": ".py",
   "mimetype": "text/x-python",
   "name": "python",
   "nbconvert_exporter": "python",
   "pygments_lexer": "ipython3",
   "version": "3.13.2"
  }
 },
 "nbformat": 4,
 "nbformat_minor": 5
}
